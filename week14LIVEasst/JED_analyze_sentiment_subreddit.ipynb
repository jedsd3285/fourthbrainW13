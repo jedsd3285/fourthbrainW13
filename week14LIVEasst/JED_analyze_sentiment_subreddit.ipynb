{
  "cells": [
    {
      "cell_type": "markdown",
      "metadata": {
        "id": "-zEhmL9rDA7A"
      },
      "source": [
        "<p align = \"center\" draggable=”false” ><img src=\"https://user-images.githubusercontent.com/37101144/161836199-fdb0219d-0361-4988-bf26-48b0fad160a3.png\" \n",
        "     width=\"200px\"\n",
        "     height=\"auto\"/>\n",
        "</p>"
      ]
    },
    {
      "cell_type": "markdown",
      "metadata": {
        "id": "3v98DUJvDA7K"
      },
      "source": [
        "# Reddit and HuggingFace Starter Kit"
      ]
    },
    {
      "cell_type": "markdown",
      "metadata": {
        "id": "0VhaENOpDA7L"
      },
      "source": [
        "In this live coding session, we leverage the Python Reddit API Wrapper (`PRAW`) to retrieve data from subreddits on [Reddit](https://www.reddit.com), and perform sentiment analysis using [`pipelines`](https://huggingface.co/docs/transformers/main_classes/pipelines) from [HuggingFace ( 🤗 the GitHub of Machine Learning )](https://techcrunch.com/2022/05/09/hugging-face-reaches-2-billion-valuation-to-build-the-github-of-machine-learning/), powered by [transformer](https://arxiv.org/pdf/1706.03762.pdf)."
      ]
    },
    {
      "cell_type": "markdown",
      "metadata": {
        "id": "t7K0um39DA7M"
      },
      "source": [
        "## Objectives"
      ]
    },
    {
      "cell_type": "markdown",
      "metadata": {
        "id": "1ADQB6z3DA7N"
      },
      "source": [
        "At the end of the session, you will "
      ]
    },
    {
      "cell_type": "markdown",
      "metadata": {
        "id": "3PA56E03DA7O"
      },
      "source": [
        "- know how to work with APIs\n",
        "- feel more comfortable navigating thru documentation, even inspecting the source code\n",
        "- understand what a `pipeline` object is in HuggingFace\n",
        "- perform sentiment analysis using `pipeline`\n",
        "- run a python script in command line and get the results"
      ]
    },
    {
      "cell_type": "markdown",
      "metadata": {
        "heading_collapsed": true,
        "id": "TdGvCp48DA7P"
      },
      "source": [
        "## How to Submit"
      ]
    },
    {
      "cell_type": "markdown",
      "metadata": {
        "hidden": true,
        "id": "c4EpAou9DA7R"
      },
      "source": [
        "- At the end of each task, commit* the work into your own remote repo\n",
        "- After completing all three tasks, make sure to push the notebook containing all code blocks and output cells to your remote repo\n",
        "- Submit the link to the notebook in Canvas"
      ]
    },
    {
      "cell_type": "markdown",
      "metadata": {
        "hidden": true,
        "id": "VFb_BRd3DA7T"
      },
      "source": [
        "\\***NEVER** commit a notebook displaying errors unless it is instructed otherwise. However, commit often; recall git ABC = **A**lways **B**e **C**ommitting."
      ]
    },
    {
      "cell_type": "markdown",
      "metadata": {
        "id": "uuaW8hl2DA7U"
      },
      "source": [
        "## Tasks"
      ]
    },
    {
      "cell_type": "markdown",
      "metadata": {
        "heading_collapsed": true,
        "id": "wqfVblqjDA7W"
      },
      "source": [
        "### Task I: Instantiate a Reddit API Object"
      ]
    },
    {
      "cell_type": "markdown",
      "metadata": {
        "hidden": true,
        "id": "-E65HDkxDA7X"
      },
      "source": [
        "The first task is to instantiate a Reddit API object using [PRAW](https://praw.readthedocs.io/en/stable/), through which you will retrieve data. PRAW is a wrapper for [Reddit API](https://www.reddit.com/dev/api) that makes interacting with the Reddit API easier unless you are already an expert of [`requests`](https://docs.python-requests.org/en/latest/)."
      ]
    },
    {
      "cell_type": "markdown",
      "metadata": {
        "hidden": true,
        "id": "_sC-QDBgDA7X"
      },
      "source": [
        "#### 0.  Get updates from `FourthBrain/MLE-7`"
      ]
    },
    {
      "cell_type": "markdown",
      "metadata": {
        "hidden": true,
        "id": "n47Xypf3DA7Y"
      },
      "source": [
        "Under your forked local repo, **fetch** and download new updates from repo `FourthBrain/MLE-7` locally so you can start development. \n",
        "    \n",
        "<details>\n",
        "<summary>If you haven't added `FourthBrain/MLE-7` as a remote repo, click here for instructions:</summary>   \n",
        "You fork repo `FourthBrain/MLE-7` to `yourhandle/MLE-7`, clone it locally, and now you are under directory `MLE-7`. By default, you will see one server name `origin` pointing to your repo:  \n",
        "    \n",
        "```\n",
        "$git remote -v \n",
        "origin  git@github.com:yourhandle/MLE-7.git (fetch)\n",
        "origin  git@github.com:yourhandle/MLE-7.git (push)\n",
        "```\n",
        "\n",
        "Think of fetch = read and push = write. \n",
        "\n",
        "Now add `FourthBrain/MLE-7` as a remote repo\n",
        "\n",
        "```\n",
        "$git add remote fourthbrain git@github.com:FourthBrain/MLE-7.git\n",
        "$git remote -v\n",
        "fourthbrain\tgit@github.com:FourthBrain/MLE-7.git (fetch)\n",
        "fourthbrain\tgit@github.com:FourthBrain/MLE-7.git (push)\n",
        "origin git@github.com:yourhandle/MLE-7.git (fetch)\n",
        "origin git@github.com:yourhandle/MLE-7.git (push)\n",
        "```\n",
        "\n",
        "then before each session starts, run `git fetch fourthbrain` to get updates (why not `git pull`?).\n",
        "\n",
        "check out [Working with Remotes](https://git-scm.com/book/en/v2/Git-Basics-Working-with-Remotes) for more explanations.\n",
        "</details>"
      ]
    },
    {
      "cell_type": "markdown",
      "metadata": {
        "hidden": true,
        "id": "IQW8f5D6DA7a"
      },
      "source": [
        "#### 1. Install packages"
      ]
    },
    {
      "cell_type": "markdown",
      "metadata": {
        "hidden": true,
        "id": "a1OdZipiDA7a"
      },
      "source": [
        "```\n",
        "conda activate {your_virtual_environment_name}\n",
        "pip install -U transformers praw torch numpy pandas\n",
        "```"
      ]
    },
    {
      "cell_type": "markdown",
      "metadata": {
        "hidden": true,
        "id": "x6NEgkDLDA7b"
      },
      "source": [
        "####  2. Create a new app on Reddit "
      ]
    },
    {
      "cell_type": "markdown",
      "metadata": {
        "hidden": true,
        "id": "9pbpm6tUDA7b"
      },
      "source": [
        "Create a new app on Reddit and save secret tokens; refer to [post in medium](https://towardsdatascience.com/how-to-use-the-reddit-api-in-python-5e05ddfd1e5c) for more details."
      ]
    },
    {
      "cell_type": "markdown",
      "metadata": {
        "hidden": true,
        "id": "-iXYRjFoDA7c"
      },
      "source": [
        "- Create a Reddit account if you don't have one, log into your account.\n",
        "- To access the API, we need create an app. Slight updates, on the website, you need to navigate to `preference` > `app`, or click [this link](https://www.reddit.com/prefs/apps) and scroll all the way down. \n",
        "- Click to create a new app, fill in the **name**, choose `script`, fill in  **description** and **redirect url** ( The redirect URI is where the user is sent after they've granted OAuth access to your application; more info [here](and details are in [](https://github.com/reddit-archive/reddit/wiki/OAuth2) for our purpose, you can enter some random url, e.g., www.google.com; ) as shown below.\n",
        "    <div>\n",
        "    <img src=\"./img/reddit_create_app.png\" width=\"500\"/>\n",
        "    </div>   \n",
        "- Jolt down `client_id` (left upper corner) and `client_secret` \n",
        "    <div>\n",
        "    <img src=\"./img/reddit_secret_tokens.png\" width=\"300\"/>\n",
        "    </div>\n",
        "\n",
        "- Create `secrets.py` in the same directory with this notebook, fill in `client_id` and `secret_id` obtained from the last step. We will need to import those constants in the next step.\n",
        "    ```\n",
        "    REDDIT_API_CLIENT_ID = {client_id}\n",
        "    REDDIT_API_CLIENT_SECRET = {secret_id}\n",
        "    REDDIT_API_USER_AGENT = {can_be_any_string, e.g., : \"BotBot\"}\n",
        "    ```\n",
        "- Add `secrets.py` to your `.gitignore` file if not already done. NEVER push credentials to a repo, private or public. "
      ]
    },
    {
      "cell_type": "markdown",
      "metadata": {
        "hidden": true,
        "id": "uZL0rWwdDA7d"
      },
      "source": [
        "#### 3. Instantiate a `Reddit` object"
      ]
    },
    {
      "cell_type": "markdown",
      "metadata": {
        "hidden": true,
        "id": "Pwn9ffe0DA7e"
      },
      "source": [
        "Now you are ready to create a read-only `Reddit` instance. Refer to [documentation](https://praw.readthedocs.io/en/stable/code_overview/reddit_instance.html) when necessary."
      ]
    },
    {
      "cell_type": "code",
      "source": [
        "!pip install praw"
      ],
      "metadata": {
        "colab": {
          "base_uri": "https://localhost:8080/"
        },
        "id": "HrWkY9SMpXCb",
        "outputId": "99b05f0c-5a67-4388-cdb6-bdf7fe0ab86b"
      },
      "execution_count": 1,
      "outputs": [
        {
          "output_type": "stream",
          "name": "stdout",
          "text": [
            "Collecting praw\n",
            "  Downloading praw-7.6.0-py3-none-any.whl (188 kB)\n",
            "\u001b[K     |████████████████████████████████| 188 kB 7.4 MB/s \n",
            "\u001b[?25hCollecting websocket-client>=0.54.0\n",
            "  Downloading websocket_client-1.3.2-py3-none-any.whl (54 kB)\n",
            "\u001b[K     |████████████████████████████████| 54 kB 2.6 MB/s \n",
            "\u001b[?25hCollecting update-checker>=0.18\n",
            "  Downloading update_checker-0.18.0-py3-none-any.whl (7.0 kB)\n",
            "Collecting prawcore<3,>=2.1\n",
            "  Downloading prawcore-2.3.0-py3-none-any.whl (16 kB)\n",
            "Requirement already satisfied: requests<3.0,>=2.6.0 in /usr/local/lib/python3.7/dist-packages (from prawcore<3,>=2.1->praw) (2.23.0)\n",
            "Requirement already satisfied: idna<3,>=2.5 in /usr/local/lib/python3.7/dist-packages (from requests<3.0,>=2.6.0->prawcore<3,>=2.1->praw) (2.10)\n",
            "Requirement already satisfied: urllib3!=1.25.0,!=1.25.1,<1.26,>=1.21.1 in /usr/local/lib/python3.7/dist-packages (from requests<3.0,>=2.6.0->prawcore<3,>=2.1->praw) (1.24.3)\n",
            "Requirement already satisfied: chardet<4,>=3.0.2 in /usr/local/lib/python3.7/dist-packages (from requests<3.0,>=2.6.0->prawcore<3,>=2.1->praw) (3.0.4)\n",
            "Requirement already satisfied: certifi>=2017.4.17 in /usr/local/lib/python3.7/dist-packages (from requests<3.0,>=2.6.0->prawcore<3,>=2.1->praw) (2021.10.8)\n",
            "Installing collected packages: websocket-client, update-checker, prawcore, praw\n",
            "Successfully installed praw-7.6.0 prawcore-2.3.0 update-checker-0.18.0 websocket-client-1.3.2\n"
          ]
        }
      ]
    },
    {
      "cell_type": "code",
      "execution_count": 2,
      "metadata": {
        "hidden": true,
        "id": "FW-eYDZ7DA7f"
      },
      "outputs": [],
      "source": [
        "import praw\n",
        "import secrets\n",
        "\n",
        "# Create a Reddit object which allows us to interact with the Reddit API\n",
        "reddit = praw.Reddit(\n",
        "    client_id=secrets.REDDIT_API_CLIENT_ID,\n",
        "    client_secret=secrets.REDDIT_API_CLIENT_SECRET,\n",
        "    user_agent=secrets.REDDIT_API_USER_AGENT\n",
        ")"
      ]
    },
    {
      "cell_type": "code",
      "execution_count": 3,
      "metadata": {
        "hidden": true,
        "id": "8VpTcfCtDA7h",
        "colab": {
          "base_uri": "https://localhost:8080/"
        },
        "outputId": "7e3e6843-f5e5-491c-ff3a-6adfdeec9b4b"
      },
      "outputs": [
        {
          "output_type": "stream",
          "name": "stdout",
          "text": [
            "<praw.reddit.Reddit object at 0x7f8de580dc90>\n"
          ]
        }
      ],
      "source": [
        "print(reddit) "
      ]
    },
    {
      "cell_type": "markdown",
      "metadata": {
        "id": "YEbDWk9nDA7i"
      },
      "source": [
        "<details>\n",
        "<summary>Expected output:</summary>   \n",
        "\n",
        "```<praw.reddit.Reddit object at 0x10f8a0ac0>```\n",
        "</details>"
      ]
    },
    {
      "cell_type": "markdown",
      "metadata": {
        "hidden": true,
        "id": "qqS7wxRTDA7i"
      },
      "source": [
        "#### 4. Instantiate a `subreddit` object"
      ]
    },
    {
      "cell_type": "markdown",
      "metadata": {
        "hidden": true,
        "id": "I_zJC3FTDA7i"
      },
      "source": [
        "Lastly, create a `subreddit` object for your favorite subreddit and inspect the object. The expected output you will see ar from `r/machinelearning` unless otherwise specified."
      ]
    },
    {
      "cell_type": "code",
      "execution_count": 4,
      "metadata": {
        "hidden": true,
        "id": "TiNyh8UDDA7j"
      },
      "outputs": [],
      "source": [
        "fave_subreddit = reddit.subreddit('machinelearning')"
      ]
    },
    {
      "cell_type": "markdown",
      "metadata": {
        "hidden": true,
        "id": "gGgWomn_DA7j"
      },
      "source": [
        "What is the display name of the subreddit?"
      ]
    },
    {
      "cell_type": "code",
      "execution_count": 5,
      "metadata": {
        "hidden": true,
        "id": "184svFIwDA7k",
        "colab": {
          "base_uri": "https://localhost:8080/",
          "height": 58
        },
        "outputId": "3ed1d18d-365e-455b-c0ae-2f686f6d541d"
      },
      "outputs": [
        {
          "output_type": "execute_result",
          "data": {
            "text/plain": [
              "'machinelearning'"
            ],
            "application/vnd.google.colaboratory.intrinsic+json": {
              "type": "string"
            }
          },
          "metadata": {},
          "execution_count": 5
        }
      ],
      "source": [
        "fave_subreddit.display_name"
      ]
    },
    {
      "cell_type": "markdown",
      "metadata": {
        "id": "uWxzzDJRDA7k"
      },
      "source": [
        "<details>\n",
        "<summary>Expected output:</summary>   \n",
        "\n",
        "    machinelearning\n",
        "</details>"
      ]
    },
    {
      "cell_type": "markdown",
      "metadata": {
        "hidden": true,
        "id": "ubFePeIODA7k"
      },
      "source": [
        "How about its title, is it different from the display name?"
      ]
    },
    {
      "cell_type": "code",
      "execution_count": 6,
      "metadata": {
        "hidden": true,
        "id": "inHLfVCzDA7l",
        "colab": {
          "base_uri": "https://localhost:8080/",
          "height": 124
        },
        "outputId": "b49ae30e-b455-47af-a939-bcb1ceebff1c"
      },
      "outputs": [
        {
          "output_type": "stream",
          "name": "stderr",
          "text": [
            "It appears that you are using PRAW in an asynchronous environment.\n",
            "It is strongly recommended to use Async PRAW: https://asyncpraw.readthedocs.io.\n",
            "See https://praw.readthedocs.io/en/latest/getting_started/multiple_instances.html#discord-bots-and-asynchronous-environments for more info.\n",
            "\n"
          ]
        },
        {
          "output_type": "execute_result",
          "data": {
            "text/plain": [
              "'Machine Learning'"
            ],
            "application/vnd.google.colaboratory.intrinsic+json": {
              "type": "string"
            }
          },
          "metadata": {},
          "execution_count": 6
        }
      ],
      "source": [
        "fave_subreddit.title"
      ]
    },
    {
      "cell_type": "markdown",
      "metadata": {
        "id": "sFAC6BLoDA7l"
      },
      "source": [
        "<details>\n",
        "<summary>Expected output:</summary>   \n",
        "\n",
        "    Machine Learning\n",
        "</details>"
      ]
    },
    {
      "cell_type": "markdown",
      "metadata": {
        "hidden": true,
        "id": "2hdgEpBlDA7l"
      },
      "source": [
        "Print out the description of the subreddit:"
      ]
    },
    {
      "cell_type": "code",
      "execution_count": 7,
      "metadata": {
        "hidden": true,
        "scrolled": false,
        "id": "yQLM1CCJDA7m",
        "colab": {
          "base_uri": "https://localhost:8080/"
        },
        "outputId": "afb30456-df00-4a94-e900-db9abd193e2d"
      },
      "outputs": [
        {
          "output_type": "stream",
          "name": "stdout",
          "text": [
            "**[Rules For Posts](https://www.reddit.com/r/MachineLearning/about/rules/)**\n",
            "--------\n",
            "+[Research](https://www.reddit.com/r/MachineLearning/search?sort=new&restrict_sr=on&q=flair%3AResearch)\n",
            "--------\n",
            "+[Discussion](https://www.reddit.com/r/MachineLearning/search?sort=new&restrict_sr=on&q=flair%3ADiscussion)\n",
            "--------\n",
            "+[Project](https://www.reddit.com/r/MachineLearning/search?sort=new&restrict_sr=on&q=flair%3AProject)\n",
            "--------\n",
            "+[News](https://www.reddit.com/r/MachineLearning/search?sort=new&restrict_sr=on&q=flair%3ANews)\n",
            "--------\n",
            "***[@slashML on Twitter](https://twitter.com/slashML)***\n",
            "--------\n",
            "***[Chat with us on Slack](https://join.slack.com/t/rml-talk/shared_invite/enQtNjkyMzI3NjA2NTY2LWY0ZmRjZjNhYjI5NzYwM2Y0YzZhZWNiODQ3ZGFjYmI2NTU3YjE1ZDU5MzM2ZTQ4ZGJmOTFmNWVkMzFiMzVhYjg)***\n",
            "--------\n",
            "**Beginners:**\n",
            "--------\n",
            "Please have a look at [our FAQ and Link-Collection](http://www.reddit.com/r/MachineLearning/wiki/index)\n",
            "\n",
            "[Metacademy](http://www.metacademy.org) is a great resource which compiles lesson plans on popular machine learning topics.\n",
            "\n",
            "For Beginner questions please try /r/LearnMachineLearning , /r/MLQuestions or http://stackoverflow.com/\n",
            "\n",
            "For career related questions, visit /r/cscareerquestions/\n",
            "\n",
            "--------\n",
            "\n",
            "[Advanced Courses (2016)](https://www.reddit.com/r/MachineLearning/comments/51qhc8/phdlevel_courses?st=isz2lqdk&sh=56c58cd6)\n",
            "\n",
            "[Advanced Courses (2020)](https://www.reddit.com/r/MachineLearning/comments/fdw0ax/d_advanced_courses_update/)\n",
            "\n",
            "--------\n",
            "**AMAs:**\n",
            "\n",
            "[Pluribus Poker AI Team 7/19/2019](https://www.reddit.com/r/MachineLearning/comments/ceece3/ama_we_are_noam_brown_and_tuomas_sandholm/)\n",
            "\n",
            "[DeepMind AlphaStar team (1/24//2019)](https://www.reddit.com/r/MachineLearning/comments/ajgzoc/we_are_oriol_vinyals_and_david_silver_from/)\n",
            "\n",
            "[Libratus Poker AI Team (12/18/2017)]\n",
            "(https://www.reddit.com/r/MachineLearning/comments/7jn12v/ama_we_are_noam_brown_and_professor_tuomas/)\n",
            "\n",
            "[DeepMind AlphaGo Team (10/19/2017)](https://www.reddit.com/r/MachineLearning/comments/76xjb5/ama_we_are_david_silver_and_julian_schrittwieser/)\n",
            "\n",
            "[Google Brain Team (9/17/2017)](https://www.reddit.com/r/MachineLearning/comments/6z51xb/we_are_the_google_brain_team_wed_love_to_answer/)\n",
            "\n",
            "[Google Brain Team (8/11/2016)]\n",
            "(https://www.reddit.com/r/MachineLearning/comments/4w6tsv/ama_we_are_the_google_brain_team_wed_love_to/)\n",
            "\n",
            "[The MalariaSpot Team (2/6/2016)](https://www.reddit.com/r/MachineLearning/comments/4m7ci1/ama_the_malariaspot_team/)\n",
            "\n",
            "[OpenAI Research Team (1/9/2016)](http://www.reddit.com/r/MachineLearning/comments/404r9m/ama_the_openai_research_team/)\n",
            "\n",
            "[Nando de Freitas (12/26/2015)](http://www.reddit.com/r/MachineLearning/comments/3y4zai/ama_nando_de_freitas/)\n",
            "\n",
            "[Andrew Ng and Adam Coates (4/15/2015)](http://www.reddit.com/r/MachineLearning/comments/32ihpe/ama_andrew_ng_and_adam_coates/)\n",
            "\n",
            "[Jürgen Schmidhuber (3/4/2015)](http://www.reddit.com/r/MachineLearning/comments/2xcyrl/i_am_j%C3%BCrgen_schmidhuber_ama/)\n",
            "\n",
            "[Geoffrey Hinton (11/10/2014)]\n",
            "(http://www.reddit.com/r/MachineLearning/comments/2lmo0l/ama_geoffrey_hinton/)\n",
            "\n",
            "[Michael Jordan (9/10/2014)](http://www.reddit.com/r/MachineLearning/comments/2fxi6v/ama_michael_i_jordan/)\n",
            "\n",
            "[Yann LeCun (5/15/2014)](http://www.reddit.com/r/MachineLearning/comments/25lnbt/ama_yann_lecun/)\n",
            "\n",
            "[Yoshua Bengio (2/27/2014)](http://www.reddit.com/r/MachineLearning/comments/1ysry1/ama_yoshua_bengio/)\n",
            "\n",
            "--------\n",
            "Related Subreddit :\n",
            "\n",
            "* [LearnMachineLearning](http://www.reddit.com/r/LearnMachineLearning)\n",
            "\n",
            "* [Statistics](http://www.reddit.com/r/statistics)\n",
            "\n",
            "* [Computer Vision](http://www.reddit.com/r/computervision)\n",
            "\n",
            "* [Compressive Sensing](http://www.reddit.com/r/CompressiveSensing/)\n",
            "\n",
            "* [NLP] (http://www.reddit.com/r/LanguageTechnology)\n",
            "\n",
            "* [ML Questions] (http://www.reddit.com/r/MLQuestions)\n",
            "\n",
            "* /r/MLjobs and /r/BigDataJobs\n",
            "\n",
            "* /r/datacleaning\n",
            "\n",
            "* /r/DataScience\n",
            "\n",
            "* /r/scientificresearch\n",
            "\n",
            "* /r/artificial\n"
          ]
        }
      ],
      "source": [
        "print(fave_subreddit.description)"
      ]
    },
    {
      "cell_type": "markdown",
      "metadata": {
        "id": "8lQ8rU91DA7m"
      },
      "source": [
        "<details>\n",
        "<summary>Expected output:</summary>\n",
        "\n",
        "    **[Rules For Posts](https://www.reddit.com/r/MachineLearning/about/rules/)**\n",
        "    --------\n",
        "    +[Research](https://www.reddit.com/r/MachineLearning/search?sort=new&restrict_sr=on&q=flair%3AResearch)\n",
        "    --------\n",
        "    +[Discussion](https://www.reddit.com/r/MachineLearning/search?sort=new&restrict_sr=on&q=flair%3ADiscussion)\n",
        "    --------\n",
        "    +[Project](https://www.reddit.com/r/MachineLearning/search?sort=new&restrict_sr=on&q=flair%3AProject)\n",
        "    --------\n",
        "    +[News](https://www.reddit.com/r/MachineLearning/search?sort=new&restrict\n",
        "</details>"
      ]
    },
    {
      "cell_type": "markdown",
      "metadata": {
        "heading_collapsed": true,
        "id": "1IYZHH7QDA7n"
      },
      "source": [
        "### Task II: Parse comments"
      ]
    },
    {
      "cell_type": "markdown",
      "metadata": {
        "heading_collapsed": true,
        "hidden": true,
        "id": "SCPoFVDhDA7n"
      },
      "source": [
        "#### 1. Top Posts of All Time"
      ]
    },
    {
      "cell_type": "markdown",
      "metadata": {
        "hidden": true,
        "id": "fLkpj1FxDA7n"
      },
      "source": [
        "Find titles of top 10 posts of **all time** from your favorite subreddit. Refer to [Obtain Submission Instances from a Subreddit Section](https://praw.readthedocs.io/en/stable/getting_started/quick_start.html)) if necessary. Verify if the titles match what you read on Reddit."
      ]
    },
    {
      "cell_type": "code",
      "execution_count": 11,
      "metadata": {
        "hidden": true,
        "id": "BPfPBrGdDA7o"
      },
      "outputs": [],
      "source": [
        "# try run this line, what do you see? press q once you are done\n",
        "?fave_subreddit.top\n",
        "# shows the help documentation for \n",
        "# .top ... the default for time_filter\n",
        "# seems to be 'all' anyway.. so we good.."
      ]
    },
    {
      "cell_type": "code",
      "execution_count": 10,
      "metadata": {
        "hidden": true,
        "id": "T-7CHVnkDA7o",
        "colab": {
          "base_uri": "https://localhost:8080/"
        },
        "outputId": "46267ac9-4c6e-4960-fe1e-24965d518e94"
      },
      "outputs": [
        {
          "output_type": "stream",
          "name": "stderr",
          "text": [
            "It appears that you are using PRAW in an asynchronous environment.\n",
            "It is strongly recommended to use Async PRAW: https://asyncpraw.readthedocs.io.\n",
            "See https://praw.readthedocs.io/en/latest/getting_started/multiple_instances.html#discord-bots-and-asynchronous-environments for more info.\n",
            "\n"
          ]
        },
        {
          "output_type": "stream",
          "name": "stdout",
          "text": [
            "[Project] From books to presentations in 10s with AR + ML\n",
            "[D] A Demo from 1993 of 32-year-old Yann LeCun showing off the World's first Convolutional Network for Text Recognition\n",
            "[R] First Order Motion Model applied to animate paintings\n",
            "[N] AI can turn old photos into moving Images / Link is given in the comments - You can also turn your old photo like this\n",
            "[D] This AI reveals how much time politicians stare at their phone at work\n",
            "[D] Types of Machine Learning Papers\n",
            "[D] The machine learning community has a toxicity problem\n",
            "[Project] NEW PYTHON PACKAGE: Sync GAN Art to Music with \"Lucid Sonic Dreams\"! (Link in Comments)\n",
            "[P] Using oil portraits and First Order Model to bring the paintings back to life\n",
            "[D] Convolution Neural Network Visualization - Made with Unity 3D and lots of Code / source - stefsietz (IG)\n"
          ]
        }
      ],
      "source": [
        "for i, s in enumerate(fave_subreddit.top()):\n",
        "  print(s.title)\n",
        "  if i >= 9:\n",
        "    break"
      ]
    },
    {
      "cell_type": "markdown",
      "metadata": {
        "hidden": true,
        "id": "Nxo4ZYfwDA7p"
      },
      "source": [
        "<details> <summary>Expected output:</summary>\n",
        "\n",
        "    [Project] From books to presentations in 10s with AR + ML\n",
        "    [D] A Demo from 1993 of 32-year-old Yann LeCun showing off the World's first Convolutional Network for Text Recognition\n",
        "    [R] First Order Motion Model applied to animate paintings\n",
        "    [N] AI can turn old photos into moving Images / Link is given in the comments - You can also turn your old photo like this\n",
        "    [D] This AI reveals how much time politicians stare at their phone at work\n",
        "    [D] Types of Machine Learning Papers\n",
        "    [D] The machine learning community has a toxicity problem\n",
        "    [Project] NEW PYTHON PACKAGE: Sync GAN Art to Music with \"Lucid Sonic Dreams\"! (Link in Comments)\n",
        "    [P] Using oil portraits and First Order Model to bring the paintings back to life\n",
        "    [D] Convolution Neural Network Visualization - Made with Unity 3D and lots of Code / source - stefsietz (IG)    \n",
        "</details>"
      ]
    },
    {
      "cell_type": "markdown",
      "metadata": {
        "heading_collapsed": true,
        "hidden": true,
        "id": "G5EszBPQDA7q"
      },
      "source": [
        "#### 2. Top 10 Posts of This Week"
      ]
    },
    {
      "cell_type": "markdown",
      "metadata": {
        "hidden": true,
        "id": "EIxEmXu2DA7q"
      },
      "source": [
        "What are the titles of the top 10 posts of **this week** from your favorite subreddit?"
      ]
    },
    {
      "cell_type": "code",
      "execution_count": 12,
      "metadata": {
        "hidden": true,
        "id": "IvsPhhvGDA7q",
        "colab": {
          "base_uri": "https://localhost:8080/"
        },
        "outputId": "fee557e5-34cf-4d50-d2c7-01ec3aebcf8a"
      },
      "outputs": [
        {
          "output_type": "stream",
          "name": "stderr",
          "text": [
            "It appears that you are using PRAW in an asynchronous environment.\n",
            "It is strongly recommended to use Async PRAW: https://asyncpraw.readthedocs.io.\n",
            "See https://praw.readthedocs.io/en/latest/getting_started/multiple_instances.html#discord-bots-and-asynchronous-environments for more info.\n",
            "\n"
          ]
        },
        {
          "output_type": "stream",
          "name": "stdout",
          "text": [
            "[News] New Google tech - Geospatial API uses computer vision and machine learning to turn 15 years of street view imagery into a 3d canvas for augmented reality developers\n",
            "[N] Apple Executive Who Left Over Return-to-Office Policy Joins Google AI Unit: Ian Goodfellow, a former director of machine learning at Apple, is joining DeepMind.\n",
            "[R] Symphony Generation with Permutation Invariant Language Model\n",
            "[D] My experience with running PyTorch on the M1 GPU\n",
            "[N] Introducing Accelerated PyTorch Training on Mac\n",
            "[Project] How to create visualizations for \"complex\" networks?\n",
            "[D] How would one even maintain a generalist agent like Gato?\n",
            "[P] Training to read PDF documents. Any ideas?\n",
            "[P] DALL·E Mega Website\n",
            "[D] How to choose dimensions for latent space ?\n"
          ]
        }
      ],
      "source": [
        "for i, s in enumerate(fave_subreddit.top(time_filter=\"week\")):\n",
        "  print(s.title)\n",
        "  if i >= 9:\n",
        "    break"
      ]
    },
    {
      "cell_type": "markdown",
      "metadata": {
        "hidden": true,
        "id": "nHwqYBhlDA7r"
      },
      "source": [
        "<details><summary>Expected output:</summary>\n",
        "\n",
        "    [N] Ian Goodfellow, Apple’s director of machine learning, is leaving the company due to its return to work policy. In a note to staff, he said “I believe strongly that more flexibility would have been the best policy for my team.” He was likely the company’s most cited ML expert.\n",
        "    [R][P] Thin-Plate Spline Motion Model for Image Animation + Gradio Web Demo\n",
        "    [P] I’ve been trying to understand the limits of some of the available machine learning models out there. Built an app that lets you try a mix of CLIP from Open AI + Apple’s version of MobileNet, and more directly on your phone's camera roll.\n",
        "    [R] Meta is releasing a 175B parameter language model\n",
        "    [N] Hugging Face raised $100M at $2B to double down on community, open-source & ethics\n",
        "    [P] T-SNE to view and order your Spotify tracks\n",
        "    [D] : HELP Finding a Book - A book written for Google Engineers about foundational Math to support ML\n",
        "    [R] Scaled up CLIP-like model (~2B) shows 86% Zero-shot on Imagenet\n",
        "    [D] Do you use NLTK or Spacy for text preprocessing?\n",
        "    [D] Democratizing Diffusion Models - LDMs: High-Resolution Image Synthesis with Latent Diffusion Models, a 5-minute paper summary by Casual GAN Papers\n",
        "</details>"
      ]
    },
    {
      "cell_type": "markdown",
      "metadata": {
        "heading_collapsed": true,
        "hidden": true,
        "id": "S80H3nWTDA7r"
      },
      "source": [
        "#### 3. Comment Code"
      ]
    },
    {
      "cell_type": "markdown",
      "metadata": {
        "hidden": true,
        "id": "mSK4H8apDA7s"
      },
      "source": [
        "Add comments to the code block below to describe what each line of the code does (Refer to [Obtain Comment Instances Section](https://praw.readthedocs.io/en/stable/getting_started/quick_start.html) when necessary). The code is adapted from [this tutorial](https://praw.readthedocs.io/en/stable/tutorials/comments.html)\n",
        "\n",
        "The purpose is \n",
        "1. to understand what the code is doing \n",
        "2. start to comment your code whenever it is not self-explantory if you have not (others will thank you, YOU will thank you later 😊) "
      ]
    },
    {
      "cell_type": "code",
      "execution_count": 16,
      "metadata": {
        "hidden": true,
        "scrolled": true,
        "id": "YePeKatjDA7s",
        "colab": {
          "base_uri": "https://localhost:8080/"
        },
        "outputId": "7b36ac42-569b-4bab-bb43-d80ae774b9c0"
      },
      "outputs": [
        {
          "output_type": "stream",
          "name": "stderr",
          "text": [
            "It appears that you are using PRAW in an asynchronous environment.\n",
            "It is strongly recommended to use Async PRAW: https://asyncpraw.readthedocs.io.\n",
            "See https://praw.readthedocs.io/en/latest/getting_started/multiple_instances.html#discord-bots-and-asynchronous-environments for more info.\n",
            "\n",
            "It appears that you are using PRAW in an asynchronous environment.\n",
            "It is strongly recommended to use Async PRAW: https://asyncpraw.readthedocs.io.\n",
            "See https://praw.readthedocs.io/en/latest/getting_started/multiple_instances.html#discord-bots-and-asynchronous-environments for more info.\n",
            "\n",
            "It appears that you are using PRAW in an asynchronous environment.\n",
            "It is strongly recommended to use Async PRAW: https://asyncpraw.readthedocs.io.\n",
            "See https://praw.readthedocs.io/en/latest/getting_started/multiple_instances.html#discord-bots-and-asynchronous-environments for more info.\n",
            "\n",
            "It appears that you are using PRAW in an asynchronous environment.\n",
            "It is strongly recommended to use Async PRAW: https://asyncpraw.readthedocs.io.\n",
            "See https://praw.readthedocs.io/en/latest/getting_started/multiple_instances.html#discord-bots-and-asynchronous-environments for more info.\n",
            "\n",
            "It appears that you are using PRAW in an asynchronous environment.\n",
            "It is strongly recommended to use Async PRAW: https://asyncpraw.readthedocs.io.\n",
            "See https://praw.readthedocs.io/en/latest/getting_started/multiple_instances.html#discord-bots-and-asynchronous-environments for more info.\n",
            "\n",
            "It appears that you are using PRAW in an asynchronous environment.\n",
            "It is strongly recommended to use Async PRAW: https://asyncpraw.readthedocs.io.\n",
            "See https://praw.readthedocs.io/en/latest/getting_started/multiple_instances.html#discord-bots-and-asynchronous-environments for more info.\n",
            "\n",
            "It appears that you are using PRAW in an asynchronous environment.\n",
            "It is strongly recommended to use Async PRAW: https://asyncpraw.readthedocs.io.\n",
            "See https://praw.readthedocs.io/en/latest/getting_started/multiple_instances.html#discord-bots-and-asynchronous-environments for more info.\n",
            "\n",
            "It appears that you are using PRAW in an asynchronous environment.\n",
            "It is strongly recommended to use Async PRAW: https://asyncpraw.readthedocs.io.\n",
            "See https://praw.readthedocs.io/en/latest/getting_started/multiple_instances.html#discord-bots-and-asynchronous-environments for more info.\n",
            "\n",
            "It appears that you are using PRAW in an asynchronous environment.\n",
            "It is strongly recommended to use Async PRAW: https://asyncpraw.readthedocs.io.\n",
            "See https://praw.readthedocs.io/en/latest/getting_started/multiple_instances.html#discord-bots-and-asynchronous-environments for more info.\n",
            "\n",
            "It appears that you are using PRAW in an asynchronous environment.\n",
            "It is strongly recommended to use Async PRAW: https://asyncpraw.readthedocs.io.\n",
            "See https://praw.readthedocs.io/en/latest/getting_started/multiple_instances.html#discord-bots-and-asynchronous-environments for more info.\n",
            "\n",
            "It appears that you are using PRAW in an asynchronous environment.\n",
            "It is strongly recommended to use Async PRAW: https://asyncpraw.readthedocs.io.\n",
            "See https://praw.readthedocs.io/en/latest/getting_started/multiple_instances.html#discord-bots-and-asynchronous-environments for more info.\n",
            "\n"
          ]
        },
        {
          "output_type": "stream",
          "name": "stdout",
          "text": [
            "CPU times: user 681 ms, sys: 49.9 ms, total: 731 ms\n",
            "Wall time: 1min 5s\n"
          ]
        }
      ],
      "source": [
        "%%time\n",
        "from praw.models import MoreComments\n",
        "\n",
        "# create an empty shell list to put stuff in later\n",
        "top_comments = []\n",
        "\n",
        "# do a for loop to store stuff in `top_comments`\n",
        "for submission in fave_subreddit.top(limit=10):\n",
        "    # use the `comments` attribute representing top-level comments\n",
        "    for top_level_comment in submission.comments:\n",
        "        # MoreComments is a class indicating there are more comments\n",
        "        # top_level_comment seems to be an iterable item\n",
        "        # isinstance() returns True if the object is of the type specified\n",
        "        # so my guess is the line below seeks to continue this process\n",
        "        # until there are no more comments ? ..\n",
        "        # but this might be a HUGE loop though! .. well.. anyway...\n",
        "        if isinstance(top_level_comment, MoreComments):\n",
        "            continue\n",
        "        # the next line appends it to the list, though i'm\n",
        "        # unsure why it is outside if .. .\n",
        "        top_comments.append(top_level_comment.body)"
      ]
    },
    {
      "cell_type": "markdown",
      "metadata": {
        "heading_collapsed": true,
        "hidden": true,
        "id": "kmBGW2TeDA7s"
      },
      "source": [
        "#### 4. Inspect Comments"
      ]
    },
    {
      "cell_type": "markdown",
      "metadata": {
        "hidden": true,
        "id": "y5zvPNaFDA7t"
      },
      "source": [
        "How many comments did you extract from the last step? Examine a few comments. "
      ]
    },
    {
      "cell_type": "code",
      "execution_count": 17,
      "metadata": {
        "hidden": true,
        "id": "2_qUIcDrDA7t",
        "colab": {
          "base_uri": "https://localhost:8080/"
        },
        "outputId": "dd999ac4-94a2-49ed-e71d-8f23558d6a61"
      },
      "outputs": [
        {
          "output_type": "execute_result",
          "data": {
            "text/plain": [
              "693"
            ]
          },
          "metadata": {},
          "execution_count": 17
        }
      ],
      "source": [
        "#YOUR CODE HERE  # the answer may vary 693 for r/machinelearning\n",
        "len(top_comments)"
      ]
    },
    {
      "cell_type": "code",
      "execution_count": 18,
      "metadata": {
        "hidden": true,
        "id": "4t6kw-2zDA7u",
        "colab": {
          "base_uri": "https://localhost:8080/"
        },
        "outputId": "3f179fa0-b71b-45c6-9d81-6a61d8c19cb9"
      },
      "outputs": [
        {
          "output_type": "execute_result",
          "data": {
            "text/plain": [
              "['i hate the ones that begin with \"towards..\". why the tf would i want to read something that\\'s incomplete?',\n",
              " 'Impressive',\n",
              " 'This is brilliant. Thanks for sharing...']"
            ]
          },
          "metadata": {},
          "execution_count": 18
        }
      ],
      "source": [
        "import random\n",
        "\n",
        "[random.choice(top_comments) for i in range(3)]"
      ]
    },
    {
      "cell_type": "markdown",
      "metadata": {
        "id": "ir3UxS2EDA7u"
      },
      "source": [
        "<details> <summary>Some of the comments from `r/machinelearning` subreddit are:</summary>\n",
        "\n",
        "    ['Awesome visualisation',\n",
        "    'Similar to a stack or connected neurons.',\n",
        "    'Will this Turing pass the Turing Test?']\n",
        "</details>"
      ]
    },
    {
      "cell_type": "markdown",
      "metadata": {
        "hidden": true,
        "id": "i6sjfprfDA7v"
      },
      "source": [
        "#### 5. Extract Top Level Comment from Subreddit `TSLA`."
      ]
    },
    {
      "cell_type": "markdown",
      "metadata": {
        "hidden": true,
        "id": "9E7n2VEjDA7v"
      },
      "source": [
        "Write your code to extract top level comments from the top 10 topics of a time period, e.g., year, from subreddit `TSLA` and store them in a list `top_comments_tsla`.  "
      ]
    },
    {
      "cell_type": "code",
      "execution_count": 20,
      "metadata": {
        "hidden": true,
        "id": "Xoz6ovQCDA7v",
        "colab": {
          "base_uri": "https://localhost:8080/"
        },
        "outputId": "542076de-2008-4882-8273-fc443f443846"
      },
      "outputs": [
        {
          "output_type": "stream",
          "name": "stderr",
          "text": [
            "It appears that you are using PRAW in an asynchronous environment.\n",
            "It is strongly recommended to use Async PRAW: https://asyncpraw.readthedocs.io.\n",
            "See https://praw.readthedocs.io/en/latest/getting_started/multiple_instances.html#discord-bots-and-asynchronous-environments for more info.\n",
            "\n",
            "It appears that you are using PRAW in an asynchronous environment.\n",
            "It is strongly recommended to use Async PRAW: https://asyncpraw.readthedocs.io.\n",
            "See https://praw.readthedocs.io/en/latest/getting_started/multiple_instances.html#discord-bots-and-asynchronous-environments for more info.\n",
            "\n",
            "It appears that you are using PRAW in an asynchronous environment.\n",
            "It is strongly recommended to use Async PRAW: https://asyncpraw.readthedocs.io.\n",
            "See https://praw.readthedocs.io/en/latest/getting_started/multiple_instances.html#discord-bots-and-asynchronous-environments for more info.\n",
            "\n",
            "It appears that you are using PRAW in an asynchronous environment.\n",
            "It is strongly recommended to use Async PRAW: https://asyncpraw.readthedocs.io.\n",
            "See https://praw.readthedocs.io/en/latest/getting_started/multiple_instances.html#discord-bots-and-asynchronous-environments for more info.\n",
            "\n",
            "It appears that you are using PRAW in an asynchronous environment.\n",
            "It is strongly recommended to use Async PRAW: https://asyncpraw.readthedocs.io.\n",
            "See https://praw.readthedocs.io/en/latest/getting_started/multiple_instances.html#discord-bots-and-asynchronous-environments for more info.\n",
            "\n",
            "It appears that you are using PRAW in an asynchronous environment.\n",
            "It is strongly recommended to use Async PRAW: https://asyncpraw.readthedocs.io.\n",
            "See https://praw.readthedocs.io/en/latest/getting_started/multiple_instances.html#discord-bots-and-asynchronous-environments for more info.\n",
            "\n",
            "It appears that you are using PRAW in an asynchronous environment.\n",
            "It is strongly recommended to use Async PRAW: https://asyncpraw.readthedocs.io.\n",
            "See https://praw.readthedocs.io/en/latest/getting_started/multiple_instances.html#discord-bots-and-asynchronous-environments for more info.\n",
            "\n",
            "It appears that you are using PRAW in an asynchronous environment.\n",
            "It is strongly recommended to use Async PRAW: https://asyncpraw.readthedocs.io.\n",
            "See https://praw.readthedocs.io/en/latest/getting_started/multiple_instances.html#discord-bots-and-asynchronous-environments for more info.\n",
            "\n",
            "It appears that you are using PRAW in an asynchronous environment.\n",
            "It is strongly recommended to use Async PRAW: https://asyncpraw.readthedocs.io.\n",
            "See https://praw.readthedocs.io/en/latest/getting_started/multiple_instances.html#discord-bots-and-asynchronous-environments for more info.\n",
            "\n",
            "It appears that you are using PRAW in an asynchronous environment.\n",
            "It is strongly recommended to use Async PRAW: https://asyncpraw.readthedocs.io.\n",
            "See https://praw.readthedocs.io/en/latest/getting_started/multiple_instances.html#discord-bots-and-asynchronous-environments for more info.\n",
            "\n",
            "It appears that you are using PRAW in an asynchronous environment.\n",
            "It is strongly recommended to use Async PRAW: https://asyncpraw.readthedocs.io.\n",
            "See https://praw.readthedocs.io/en/latest/getting_started/multiple_instances.html#discord-bots-and-asynchronous-environments for more info.\n",
            "\n"
          ]
        }
      ],
      "source": [
        "subreddit_TSLA = reddit.subreddit('TSLA')\n",
        "\n",
        "top_comments_tsla = []\n",
        "\n",
        "for submission in subreddit_TSLA.top(limit=10, time_filter=\"year\"):\n",
        "    for top_level_comment in submission.comments:\n",
        "        if isinstance(top_level_comment, MoreComments):\n",
        "            continue\n",
        "        top_comments_tsla.append(top_level_comment.body)"
      ]
    },
    {
      "cell_type": "code",
      "execution_count": 21,
      "metadata": {
        "hidden": true,
        "id": "2YBAa6_tDA7w",
        "colab": {
          "base_uri": "https://localhost:8080/"
        },
        "outputId": "7c8cdc87-53a5-4543-d096-14fb4a4c5a86"
      },
      "outputs": [
        {
          "output_type": "execute_result",
          "data": {
            "text/plain": [
              "173"
            ]
          },
          "metadata": {},
          "execution_count": 21
        }
      ],
      "source": [
        "len(top_comments_tsla) # Expected: 174 for r/machinelearning\n",
        "\n",
        "# why is machinelearning the subreddit topic noted in the comment?\n",
        "# you mean expected 174 for TSLA? "
      ]
    },
    {
      "cell_type": "code",
      "execution_count": 22,
      "metadata": {
        "hidden": true,
        "scrolled": true,
        "id": "q-eMn6ZiDA7w",
        "colab": {
          "base_uri": "https://localhost:8080/"
        },
        "outputId": "9add6ae5-17fb-40df-ddba-4127e1c33edb"
      },
      "outputs": [
        {
          "output_type": "execute_result",
          "data": {
            "text/plain": [
              "['Gonna hit $1,100 next week and with bitcoin boost might hit $1,150.00',\n",
              " \"Would be great but Elon said he wasn't in a hurry to do that again\",\n",
              " 'Welcome on board... slow and steady wins the race!']"
            ]
          },
          "metadata": {},
          "execution_count": 22
        }
      ],
      "source": [
        "[random.choice(top_comments_tsla) for i in range(3)]"
      ]
    },
    {
      "cell_type": "markdown",
      "metadata": {
        "id": "RAYTB7cvDA7w"
      },
      "source": [
        "<details>\n",
        "<summary>Some of the comments from `r/TSLA` subreddit:</summary>\n",
        "\n",
        "    ['I bought puts',\n",
        "    '100%',\n",
        "    'Yes. And I’m bag holding 1200 calls for Friday and am close to throwing myself out the window']\n",
        "</details>"
      ]
    },
    {
      "cell_type": "markdown",
      "metadata": {
        "heading_collapsed": true,
        "id": "CmmrKgkRDA7x"
      },
      "source": [
        "### Task III: Sentiment Analysis"
      ]
    },
    {
      "cell_type": "markdown",
      "metadata": {
        "hidden": true,
        "id": "6zgtna7fDA7x"
      },
      "source": [
        "Let us analyze the sentiment of comments scraped from `r/TSLA` using a pre-trained HuggingFace model to make the inference. Take a [Quick tour](https://huggingface.co/docs/transformers/quicktour). "
      ]
    },
    {
      "cell_type": "markdown",
      "metadata": {
        "hidden": true,
        "id": "ZyVcVqbpDA7x"
      },
      "source": [
        "#### 1. Import `pipeline`"
      ]
    },
    {
      "cell_type": "code",
      "source": [
        "!pip install transformers"
      ],
      "metadata": {
        "colab": {
          "base_uri": "https://localhost:8080/"
        },
        "id": "o4nYzAZO0Jy7",
        "outputId": "740a887a-0ae7-4105-8592-baaa60b9c9d4"
      },
      "execution_count": 23,
      "outputs": [
        {
          "output_type": "stream",
          "name": "stdout",
          "text": [
            "Collecting transformers\n",
            "  Downloading transformers-4.19.2-py3-none-any.whl (4.2 MB)\n",
            "\u001b[K     |████████████████████████████████| 4.2 MB 5.4 MB/s \n",
            "\u001b[?25hRequirement already satisfied: filelock in /usr/local/lib/python3.7/dist-packages (from transformers) (3.7.0)\n",
            "Requirement already satisfied: tqdm>=4.27 in /usr/local/lib/python3.7/dist-packages (from transformers) (4.64.0)\n",
            "Requirement already satisfied: importlib-metadata in /usr/local/lib/python3.7/dist-packages (from transformers) (4.11.3)\n",
            "Collecting huggingface-hub<1.0,>=0.1.0\n",
            "  Downloading huggingface_hub-0.6.0-py3-none-any.whl (84 kB)\n",
            "\u001b[K     |████████████████████████████████| 84 kB 2.8 MB/s \n",
            "\u001b[?25hRequirement already satisfied: requests in /usr/local/lib/python3.7/dist-packages (from transformers) (2.23.0)\n",
            "Requirement already satisfied: regex!=2019.12.17 in /usr/local/lib/python3.7/dist-packages (from transformers) (2019.12.20)\n",
            "Requirement already satisfied: numpy>=1.17 in /usr/local/lib/python3.7/dist-packages (from transformers) (1.21.6)\n",
            "Collecting pyyaml>=5.1\n",
            "  Downloading PyYAML-6.0-cp37-cp37m-manylinux_2_5_x86_64.manylinux1_x86_64.manylinux_2_12_x86_64.manylinux2010_x86_64.whl (596 kB)\n",
            "\u001b[K     |████████████████████████████████| 596 kB 68.8 MB/s \n",
            "\u001b[?25hCollecting tokenizers!=0.11.3,<0.13,>=0.11.1\n",
            "  Downloading tokenizers-0.12.1-cp37-cp37m-manylinux_2_12_x86_64.manylinux2010_x86_64.whl (6.6 MB)\n",
            "\u001b[K     |████████████████████████████████| 6.6 MB 47.2 MB/s \n",
            "\u001b[?25hRequirement already satisfied: packaging>=20.0 in /usr/local/lib/python3.7/dist-packages (from transformers) (21.3)\n",
            "Requirement already satisfied: typing-extensions>=3.7.4.3 in /usr/local/lib/python3.7/dist-packages (from huggingface-hub<1.0,>=0.1.0->transformers) (4.2.0)\n",
            "Requirement already satisfied: pyparsing!=3.0.5,>=2.0.2 in /usr/local/lib/python3.7/dist-packages (from packaging>=20.0->transformers) (3.0.9)\n",
            "Requirement already satisfied: zipp>=0.5 in /usr/local/lib/python3.7/dist-packages (from importlib-metadata->transformers) (3.8.0)\n",
            "Requirement already satisfied: urllib3!=1.25.0,!=1.25.1,<1.26,>=1.21.1 in /usr/local/lib/python3.7/dist-packages (from requests->transformers) (1.24.3)\n",
            "Requirement already satisfied: idna<3,>=2.5 in /usr/local/lib/python3.7/dist-packages (from requests->transformers) (2.10)\n",
            "Requirement already satisfied: certifi>=2017.4.17 in /usr/local/lib/python3.7/dist-packages (from requests->transformers) (2021.10.8)\n",
            "Requirement already satisfied: chardet<4,>=3.0.2 in /usr/local/lib/python3.7/dist-packages (from requests->transformers) (3.0.4)\n",
            "Installing collected packages: pyyaml, tokenizers, huggingface-hub, transformers\n",
            "  Attempting uninstall: pyyaml\n",
            "    Found existing installation: PyYAML 3.13\n",
            "    Uninstalling PyYAML-3.13:\n",
            "      Successfully uninstalled PyYAML-3.13\n",
            "Successfully installed huggingface-hub-0.6.0 pyyaml-6.0 tokenizers-0.12.1 transformers-4.19.2\n"
          ]
        }
      ]
    },
    {
      "cell_type": "code",
      "execution_count": 24,
      "metadata": {
        "hidden": true,
        "id": "FCtzyS03DA7y"
      },
      "outputs": [],
      "source": [
        "from transformers import pipeline"
      ]
    },
    {
      "cell_type": "markdown",
      "metadata": {
        "hidden": true,
        "id": "olZskA95DA7y"
      },
      "source": [
        "#### 2. Create a Pipeline to Perform Task \"sentiment-analysis\""
      ]
    },
    {
      "cell_type": "code",
      "execution_count": 25,
      "metadata": {
        "hidden": true,
        "id": "owbmul3SDA7y",
        "colab": {
          "base_uri": "https://localhost:8080/",
          "height": 182,
          "referenced_widgets": [
            "4682925f6be94093a57a20241334c786",
            "ab5548d7eaa64978b683d5aab1afdc35",
            "65d7e0c130d743b4935b93abea65e2f9",
            "4686e57a99c044f9accf61c566d25fc7",
            "a9a68dd7288545c9a9aadb2f36b7d9f1",
            "0480e22d715145d0b63c2d199ab72527",
            "976ad1ef992547e79527131111ca5c5c",
            "ca939e5dc0744f6dafb3d8d08c76b56b",
            "cab3c9a5fb924d82bd41819c6f595e07",
            "a7e9afd89c2a4428b0079b74d76ebaa5",
            "259eca382d6a4248abbf2cbd2743e1f8",
            "dd3b4bc2a263492ab2653510973d16af",
            "26b6f438528141dbb93f91b796e0fd0b",
            "74ca65922b5d42b3b4d1babd2efc9d62",
            "130096204ff4422daa2772ed308f0e1a",
            "58774d158e484ce58492301f06bf01e6",
            "c3e1bfb10e714592ae9b2a13c6e29aa8",
            "0918b56d9aa04b0493017c5d13978c16",
            "20b1d89614734226bdea51d51d3ccd77",
            "e92b1d622b2a45d4a5b5eadf6421da01",
            "283ee3ee700a4953b075858fe2706a7d",
            "09ca70648c234d97bf041b2b27735559",
            "449f4cb44bb04b7ea958ac2bd2f38b5a",
            "83365c6a1532413db33daad58af20080",
            "64d138a0abe445659d069f62d7f6e172",
            "d7f545c4efcd4ef1b5a3042fcc1ee38b",
            "35fb12fea73048b49d0c763f5716f672",
            "194fe9e2f417485cb3a5ba792cc51688",
            "f350e66d44df4847ba40cc8f9ad5ea8c",
            "6ad302c6a5c74abf9c9be7f79efcf132",
            "fd0d362e456e4eba8240cefb2d025716",
            "d6acc85b83e448d5ac2d8b1e5d87083d",
            "b19d96fa33eb4f7a9374879545f3743b",
            "e4b7e18be62840bfa7bf46a734e7fca8",
            "0a77a26a48654d728e327f7804daa41a",
            "af99b0b4c5a44d67ab74ddff7203274d",
            "f403e4c70ba0498db982ac72100c620d",
            "d221bfb81e75421f9cfb8460d814252e",
            "34c4bdeec083416d8b01ebfcf663fc52",
            "f18eac74c6ba4f80914b5e84474e51a8",
            "4b9c6a74177247bd9a12f17eab5f2af9",
            "1711a9aa540f4c8286469587af7f5a2d",
            "ca78509234d54e99b97b0c7ac78dcf63",
            "5b465d4da3184b4e87e106e4f824cb54"
          ]
        },
        "outputId": "2c8df5f9-4ae2-4a2e-b95f-c9f9fd518acc"
      },
      "outputs": [
        {
          "output_type": "stream",
          "name": "stderr",
          "text": [
            "No model was supplied, defaulted to distilbert-base-uncased-finetuned-sst-2-english (https://huggingface.co/distilbert-base-uncased-finetuned-sst-2-english)\n"
          ]
        },
        {
          "output_type": "display_data",
          "data": {
            "text/plain": [
              "Downloading:   0%|          | 0.00/629 [00:00<?, ?B/s]"
            ],
            "application/vnd.jupyter.widget-view+json": {
              "version_major": 2,
              "version_minor": 0,
              "model_id": "4682925f6be94093a57a20241334c786"
            }
          },
          "metadata": {}
        },
        {
          "output_type": "display_data",
          "data": {
            "text/plain": [
              "Downloading:   0%|          | 0.00/255M [00:00<?, ?B/s]"
            ],
            "application/vnd.jupyter.widget-view+json": {
              "version_major": 2,
              "version_minor": 0,
              "model_id": "dd3b4bc2a263492ab2653510973d16af"
            }
          },
          "metadata": {}
        },
        {
          "output_type": "display_data",
          "data": {
            "text/plain": [
              "Downloading:   0%|          | 0.00/48.0 [00:00<?, ?B/s]"
            ],
            "application/vnd.jupyter.widget-view+json": {
              "version_major": 2,
              "version_minor": 0,
              "model_id": "449f4cb44bb04b7ea958ac2bd2f38b5a"
            }
          },
          "metadata": {}
        },
        {
          "output_type": "display_data",
          "data": {
            "text/plain": [
              "Downloading:   0%|          | 0.00/226k [00:00<?, ?B/s]"
            ],
            "application/vnd.jupyter.widget-view+json": {
              "version_major": 2,
              "version_minor": 0,
              "model_id": "e4b7e18be62840bfa7bf46a734e7fca8"
            }
          },
          "metadata": {}
        }
      ],
      "source": [
        "sentiment_model = pipeline(\"sentiment-analysis\")"
      ]
    },
    {
      "cell_type": "markdown",
      "metadata": {
        "hidden": true,
        "id": "l41mgDJBDA7z"
      },
      "source": [
        "#### 3. Get one comment from list `top_comments_tsla` from Task II - 5."
      ]
    },
    {
      "cell_type": "code",
      "execution_count": 26,
      "metadata": {
        "hidden": true,
        "id": "dMhLp_xLDA7z"
      },
      "outputs": [],
      "source": [
        "random.seed(42)\n",
        "comment = random.choice(top_comments_tsla)"
      ]
    },
    {
      "cell_type": "code",
      "execution_count": 27,
      "metadata": {
        "hidden": true,
        "id": "L8NZpe0XDA7z",
        "colab": {
          "base_uri": "https://localhost:8080/",
          "height": 74
        },
        "outputId": "5e9c5648-1ecc-4cee-fb00-dd7ba3bab3e5"
      },
      "outputs": [
        {
          "output_type": "execute_result",
          "data": {
            "text/plain": [
              "\"Yeah, with inflation on the horizon, id try to salvage those calls for whatever you can before they're worthless\""
            ],
            "application/vnd.google.colaboratory.intrinsic+json": {
              "type": "string"
            }
          },
          "metadata": {},
          "execution_count": 27
        }
      ],
      "source": [
        "comment"
      ]
    },
    {
      "cell_type": "markdown",
      "metadata": {
        "id": "aOAyDimfDA70"
      },
      "source": [
        "The example comment is: `'Bury Burry!!!!!'`. Print out what you get. For reproducibility, use the same comment in the next step; consider setting a seed."
      ]
    },
    {
      "cell_type": "markdown",
      "metadata": {
        "hidden": true,
        "id": "Pqi2jNPUDA70"
      },
      "source": [
        "#### 4. Make Inference!"
      ]
    },
    {
      "cell_type": "code",
      "execution_count": 28,
      "metadata": {
        "hidden": true,
        "id": "a3mJBPF7DA70",
        "colab": {
          "base_uri": "https://localhost:8080/"
        },
        "outputId": "708003fe-b33c-4675-b200-c090dbb23e77"
      },
      "outputs": [
        {
          "output_type": "execute_result",
          "data": {
            "text/plain": [
              "list"
            ]
          },
          "metadata": {},
          "execution_count": 28
        }
      ],
      "source": [
        "sentiment = sentiment_model(comment)\n",
        "type(sentiment)"
      ]
    },
    {
      "cell_type": "markdown",
      "metadata": {
        "hidden": true,
        "id": "VlwP5CD2DA71"
      },
      "source": [
        "What is the type of the output `sentiment`?"
      ]
    },
    {
      "cell_type": "markdown",
      "metadata": {
        "hidden": true,
        "id": "4Pe2_U0iDA71"
      },
      "source": [
        "```\n",
        "list\n",
        "```"
      ]
    },
    {
      "cell_type": "code",
      "execution_count": 29,
      "metadata": {
        "hidden": true,
        "scrolled": true,
        "id": "c7DLq3kADA71",
        "colab": {
          "base_uri": "https://localhost:8080/"
        },
        "outputId": "f99421ff-c461-458f-a33f-fecbeec62eea"
      },
      "outputs": [
        {
          "output_type": "stream",
          "name": "stdout",
          "text": [
            "The comment: Yeah, with inflation on the horizon, id try to salvage those calls for whatever you can before they're worthless\n",
            "Predicted Label is NEGATIVE and the score is 0.999\n"
          ]
        }
      ],
      "source": [
        "print(f'The comment: {comment}')\n",
        "print(f'Predicted Label is {sentiment[0][\"label\"]} and the score is {sentiment[0][\"score\"]:.3f}')"
      ]
    },
    {
      "cell_type": "markdown",
      "metadata": {
        "id": "Kh3fI0UPDA71"
      },
      "source": [
        "For the example comment, the output is:\n",
        "\n",
        "    The comment: Bury Burry!!!!!\n",
        "    Predicted Label is NEGATIVE and the score is 0.989"
      ]
    },
    {
      "cell_type": "markdown",
      "metadata": {
        "id": "3rx1bcnvDA72"
      },
      "source": [
        "### Task IV: Put All Together"
      ]
    },
    {
      "cell_type": "markdown",
      "metadata": {
        "id": "QT9uoX92DA72"
      },
      "source": [
        "Let's pull all the piece together, create a simple script that does \n",
        "\n",
        "- get the subreddit\n",
        "- get comments from the top posts for given subreddit\n",
        "- run sentiment analysis "
      ]
    },
    {
      "cell_type": "markdown",
      "metadata": {
        "id": "j2cGt5DJDA73"
      },
      "source": [
        "#### Complete the Script"
      ]
    },
    {
      "cell_type": "markdown",
      "metadata": {
        "id": "L_jMg-9LDA73"
      },
      "source": [
        "Once you complete the code, running the following block writes the code into a new Python script and saves it as `top_tlsa_comment_sentiment.py` under the same directory with the notebook. "
      ]
    },
    {
      "cell_type": "code",
      "execution_count": 30,
      "metadata": {
        "code_folding": [],
        "id": "Poe1-ViWDA73",
        "colab": {
          "base_uri": "https://localhost:8080/"
        },
        "outputId": "2ce97e06-27c2-42bf-d19f-56ea05ea66b4"
      },
      "outputs": [
        {
          "output_type": "stream",
          "name": "stdout",
          "text": [
            "Writing top_tlsa_comment_sentiment.py\n"
          ]
        }
      ],
      "source": [
        "%%writefile top_tlsa_comment_sentiment.py\n",
        "\n",
        "import secrets\n",
        "import random\n",
        "\n",
        "from typing import Dict, List\n",
        "\n",
        "from praw import Reddit\n",
        "from praw.models.reddit.subreddit import Subreddit\n",
        "from praw.models import MoreComments\n",
        "\n",
        "from transformers import pipeline\n",
        "\n",
        "\n",
        "def get_subreddit(display_name:str) -> Subreddit:\n",
        "    \"\"\"Get subreddit object from display name\n",
        "\n",
        "    Args:\n",
        "        display_name (str): [description]\n",
        "\n",
        "    Returns:\n",
        "        Subreddit: [description]\n",
        "    \"\"\"\n",
        "    reddit = Reddit(\n",
        "        client_id=secrets.REDDIT_API_CLIENT_ID,        \n",
        "        client_secret=secrets.REDDIT_API_CLIENT_SECRET,\n",
        "        user_agent=secrets.REDDIT_API_USER_AGENT\n",
        "        )\n",
        "    \n",
        "    subreddit = reddit.subreddit(display_name)\n",
        "    return subreddit\n",
        "\n",
        "def get_comments(subreddit:Subreddit, limit:int=3) -> List[str]:\n",
        "    \"\"\" Get comments from subreddit\n",
        "\n",
        "    Args:\n",
        "        subreddit (Subreddit): [description]\n",
        "        limit (int, optional): [description]. Defaults to 3.\n",
        "\n",
        "    Returns:\n",
        "        List[str]: List of comments\n",
        "    \"\"\"\n",
        "    top_comments = []\n",
        "    for submission in subreddit.top(limit=limit):\n",
        "        for top_level_comment in submission.comments:\n",
        "            if isinstance(top_level_comment, MoreComments):\n",
        "                continue\n",
        "            top_comments.append(top_level_comment.body)\n",
        "    return top_comments\n",
        "\n",
        "def run_sentiment_analysis(comment:str) -> Dict:\n",
        "    \"\"\"Run sentiment analysis on comment using default distilbert model\n",
        "    \n",
        "    Args:\n",
        "        comment (str): [description]\n",
        "        \n",
        "    Returns:\n",
        "        str: Sentiment analysis result\n",
        "    \"\"\"\n",
        "    sentiment_model = pipeline(\"sentiment-analysis\")\n",
        "    sentiment = sentiment_model(comment)\n",
        "    return sentiment[0]\n",
        "\n",
        "\n",
        "if __name__ == '__main__':\n",
        "    submission = get_subreddit('TSLA')\n",
        "    comments = get_comments(submission)\n",
        "    comment = random.choice(comments)\n",
        "    sentiment = run_sentiment_analysis(comment)\n",
        "    \n",
        "    print(f'The comment: {comment}')\n",
        "    print(f'Predicted Label is {sentiment[\"label\"]} and the score is {sentiment[\"score\"]:.3f}')"
      ]
    },
    {
      "cell_type": "markdown",
      "metadata": {
        "id": "mr0ssj2eDA74"
      },
      "source": [
        "Run the following block to see the output."
      ]
    },
    {
      "cell_type": "code",
      "execution_count": 31,
      "metadata": {
        "id": "6dGj5ufdDA74",
        "colab": {
          "base_uri": "https://localhost:8080/"
        },
        "outputId": "bf47fe4d-05eb-47d6-87b9-fc70d3d6c9f7"
      },
      "outputs": [
        {
          "output_type": "stream",
          "name": "stdout",
          "text": [
            "No model was supplied, defaulted to distilbert-base-uncased-finetuned-sst-2-english (https://huggingface.co/distilbert-base-uncased-finetuned-sst-2-english)\n",
            "2022-05-22 03:36:04.658134: E tensorflow/stream_executor/cuda/cuda_driver.cc:271] failed call to cuInit: CUDA_ERROR_NO_DEVICE: no CUDA-capable device is detected\n",
            "The comment: Lies...why would an R&D person in the company be involved in this? I don’t buy it.\n",
            "Predicted Label is NEGATIVE and the score is 1.000\n"
          ]
        }
      ],
      "source": [
        "!python top_tlsa_comment_sentiment.py"
      ]
    },
    {
      "cell_type": "markdown",
      "metadata": {
        "id": "aySC-u7PDA75"
      },
      "source": [
        "<details><summary> Expected output:</summary>\n",
        "\n",
        "    No model was supplied, defaulted to distilbert-base-uncased-finetuned-sst-2-english (https://huggingface.co/distilbert-base-uncased-finetuned-sst-2-english)\n",
        "    The comment: When is DOGE flying\n",
        "    Predicted Label is POSITIVE and the score is 0.689\n",
        "</details>"
      ]
    }
  ],
  "metadata": {
    "interpreter": {
      "hash": "70e5a9886b02a227d3c83e17263e3a28d12f842d6950be488144931078452c0e"
    },
    "kernelspec": {
      "display_name": "py39_12",
      "language": "python",
      "name": "py39_12"
    },
    "language_info": {
      "codemirror_mode": {
        "name": "ipython",
        "version": 3
      },
      "file_extension": ".py",
      "mimetype": "text/x-python",
      "name": "python",
      "nbconvert_exporter": "python",
      "pygments_lexer": "ipython3",
      "version": "3.9.12"
    },
    "toc": {
      "base_numbering": 1,
      "nav_menu": {},
      "number_sections": true,
      "sideBar": true,
      "skip_h1_title": false,
      "title_cell": "Table of Contents",
      "title_sidebar": "Contents",
      "toc_cell": false,
      "toc_position": {},
      "toc_section_display": true,
      "toc_window_display": true
    },
    "colab": {
      "name": "JED analyze-sentiment-subreddit.ipynb",
      "provenance": [],
      "collapsed_sections": []
    },
    "widgets": {
      "application/vnd.jupyter.widget-state+json": {
        "4682925f6be94093a57a20241334c786": {
          "model_module": "@jupyter-widgets/controls",
          "model_name": "HBoxModel",
          "model_module_version": "1.5.0",
          "state": {
            "_dom_classes": [],
            "_model_module": "@jupyter-widgets/controls",
            "_model_module_version": "1.5.0",
            "_model_name": "HBoxModel",
            "_view_count": null,
            "_view_module": "@jupyter-widgets/controls",
            "_view_module_version": "1.5.0",
            "_view_name": "HBoxView",
            "box_style": "",
            "children": [
              "IPY_MODEL_ab5548d7eaa64978b683d5aab1afdc35",
              "IPY_MODEL_65d7e0c130d743b4935b93abea65e2f9",
              "IPY_MODEL_4686e57a99c044f9accf61c566d25fc7"
            ],
            "layout": "IPY_MODEL_a9a68dd7288545c9a9aadb2f36b7d9f1"
          }
        },
        "ab5548d7eaa64978b683d5aab1afdc35": {
          "model_module": "@jupyter-widgets/controls",
          "model_name": "HTMLModel",
          "model_module_version": "1.5.0",
          "state": {
            "_dom_classes": [],
            "_model_module": "@jupyter-widgets/controls",
            "_model_module_version": "1.5.0",
            "_model_name": "HTMLModel",
            "_view_count": null,
            "_view_module": "@jupyter-widgets/controls",
            "_view_module_version": "1.5.0",
            "_view_name": "HTMLView",
            "description": "",
            "description_tooltip": null,
            "layout": "IPY_MODEL_0480e22d715145d0b63c2d199ab72527",
            "placeholder": "​",
            "style": "IPY_MODEL_976ad1ef992547e79527131111ca5c5c",
            "value": "Downloading: 100%"
          }
        },
        "65d7e0c130d743b4935b93abea65e2f9": {
          "model_module": "@jupyter-widgets/controls",
          "model_name": "FloatProgressModel",
          "model_module_version": "1.5.0",
          "state": {
            "_dom_classes": [],
            "_model_module": "@jupyter-widgets/controls",
            "_model_module_version": "1.5.0",
            "_model_name": "FloatProgressModel",
            "_view_count": null,
            "_view_module": "@jupyter-widgets/controls",
            "_view_module_version": "1.5.0",
            "_view_name": "ProgressView",
            "bar_style": "success",
            "description": "",
            "description_tooltip": null,
            "layout": "IPY_MODEL_ca939e5dc0744f6dafb3d8d08c76b56b",
            "max": 629,
            "min": 0,
            "orientation": "horizontal",
            "style": "IPY_MODEL_cab3c9a5fb924d82bd41819c6f595e07",
            "value": 629
          }
        },
        "4686e57a99c044f9accf61c566d25fc7": {
          "model_module": "@jupyter-widgets/controls",
          "model_name": "HTMLModel",
          "model_module_version": "1.5.0",
          "state": {
            "_dom_classes": [],
            "_model_module": "@jupyter-widgets/controls",
            "_model_module_version": "1.5.0",
            "_model_name": "HTMLModel",
            "_view_count": null,
            "_view_module": "@jupyter-widgets/controls",
            "_view_module_version": "1.5.0",
            "_view_name": "HTMLView",
            "description": "",
            "description_tooltip": null,
            "layout": "IPY_MODEL_a7e9afd89c2a4428b0079b74d76ebaa5",
            "placeholder": "​",
            "style": "IPY_MODEL_259eca382d6a4248abbf2cbd2743e1f8",
            "value": " 629/629 [00:00&lt;00:00, 13.7kB/s]"
          }
        },
        "a9a68dd7288545c9a9aadb2f36b7d9f1": {
          "model_module": "@jupyter-widgets/base",
          "model_name": "LayoutModel",
          "model_module_version": "1.2.0",
          "state": {
            "_model_module": "@jupyter-widgets/base",
            "_model_module_version": "1.2.0",
            "_model_name": "LayoutModel",
            "_view_count": null,
            "_view_module": "@jupyter-widgets/base",
            "_view_module_version": "1.2.0",
            "_view_name": "LayoutView",
            "align_content": null,
            "align_items": null,
            "align_self": null,
            "border": null,
            "bottom": null,
            "display": null,
            "flex": null,
            "flex_flow": null,
            "grid_area": null,
            "grid_auto_columns": null,
            "grid_auto_flow": null,
            "grid_auto_rows": null,
            "grid_column": null,
            "grid_gap": null,
            "grid_row": null,
            "grid_template_areas": null,
            "grid_template_columns": null,
            "grid_template_rows": null,
            "height": null,
            "justify_content": null,
            "justify_items": null,
            "left": null,
            "margin": null,
            "max_height": null,
            "max_width": null,
            "min_height": null,
            "min_width": null,
            "object_fit": null,
            "object_position": null,
            "order": null,
            "overflow": null,
            "overflow_x": null,
            "overflow_y": null,
            "padding": null,
            "right": null,
            "top": null,
            "visibility": null,
            "width": null
          }
        },
        "0480e22d715145d0b63c2d199ab72527": {
          "model_module": "@jupyter-widgets/base",
          "model_name": "LayoutModel",
          "model_module_version": "1.2.0",
          "state": {
            "_model_module": "@jupyter-widgets/base",
            "_model_module_version": "1.2.0",
            "_model_name": "LayoutModel",
            "_view_count": null,
            "_view_module": "@jupyter-widgets/base",
            "_view_module_version": "1.2.0",
            "_view_name": "LayoutView",
            "align_content": null,
            "align_items": null,
            "align_self": null,
            "border": null,
            "bottom": null,
            "display": null,
            "flex": null,
            "flex_flow": null,
            "grid_area": null,
            "grid_auto_columns": null,
            "grid_auto_flow": null,
            "grid_auto_rows": null,
            "grid_column": null,
            "grid_gap": null,
            "grid_row": null,
            "grid_template_areas": null,
            "grid_template_columns": null,
            "grid_template_rows": null,
            "height": null,
            "justify_content": null,
            "justify_items": null,
            "left": null,
            "margin": null,
            "max_height": null,
            "max_width": null,
            "min_height": null,
            "min_width": null,
            "object_fit": null,
            "object_position": null,
            "order": null,
            "overflow": null,
            "overflow_x": null,
            "overflow_y": null,
            "padding": null,
            "right": null,
            "top": null,
            "visibility": null,
            "width": null
          }
        },
        "976ad1ef992547e79527131111ca5c5c": {
          "model_module": "@jupyter-widgets/controls",
          "model_name": "DescriptionStyleModel",
          "model_module_version": "1.5.0",
          "state": {
            "_model_module": "@jupyter-widgets/controls",
            "_model_module_version": "1.5.0",
            "_model_name": "DescriptionStyleModel",
            "_view_count": null,
            "_view_module": "@jupyter-widgets/base",
            "_view_module_version": "1.2.0",
            "_view_name": "StyleView",
            "description_width": ""
          }
        },
        "ca939e5dc0744f6dafb3d8d08c76b56b": {
          "model_module": "@jupyter-widgets/base",
          "model_name": "LayoutModel",
          "model_module_version": "1.2.0",
          "state": {
            "_model_module": "@jupyter-widgets/base",
            "_model_module_version": "1.2.0",
            "_model_name": "LayoutModel",
            "_view_count": null,
            "_view_module": "@jupyter-widgets/base",
            "_view_module_version": "1.2.0",
            "_view_name": "LayoutView",
            "align_content": null,
            "align_items": null,
            "align_self": null,
            "border": null,
            "bottom": null,
            "display": null,
            "flex": null,
            "flex_flow": null,
            "grid_area": null,
            "grid_auto_columns": null,
            "grid_auto_flow": null,
            "grid_auto_rows": null,
            "grid_column": null,
            "grid_gap": null,
            "grid_row": null,
            "grid_template_areas": null,
            "grid_template_columns": null,
            "grid_template_rows": null,
            "height": null,
            "justify_content": null,
            "justify_items": null,
            "left": null,
            "margin": null,
            "max_height": null,
            "max_width": null,
            "min_height": null,
            "min_width": null,
            "object_fit": null,
            "object_position": null,
            "order": null,
            "overflow": null,
            "overflow_x": null,
            "overflow_y": null,
            "padding": null,
            "right": null,
            "top": null,
            "visibility": null,
            "width": null
          }
        },
        "cab3c9a5fb924d82bd41819c6f595e07": {
          "model_module": "@jupyter-widgets/controls",
          "model_name": "ProgressStyleModel",
          "model_module_version": "1.5.0",
          "state": {
            "_model_module": "@jupyter-widgets/controls",
            "_model_module_version": "1.5.0",
            "_model_name": "ProgressStyleModel",
            "_view_count": null,
            "_view_module": "@jupyter-widgets/base",
            "_view_module_version": "1.2.0",
            "_view_name": "StyleView",
            "bar_color": null,
            "description_width": ""
          }
        },
        "a7e9afd89c2a4428b0079b74d76ebaa5": {
          "model_module": "@jupyter-widgets/base",
          "model_name": "LayoutModel",
          "model_module_version": "1.2.0",
          "state": {
            "_model_module": "@jupyter-widgets/base",
            "_model_module_version": "1.2.0",
            "_model_name": "LayoutModel",
            "_view_count": null,
            "_view_module": "@jupyter-widgets/base",
            "_view_module_version": "1.2.0",
            "_view_name": "LayoutView",
            "align_content": null,
            "align_items": null,
            "align_self": null,
            "border": null,
            "bottom": null,
            "display": null,
            "flex": null,
            "flex_flow": null,
            "grid_area": null,
            "grid_auto_columns": null,
            "grid_auto_flow": null,
            "grid_auto_rows": null,
            "grid_column": null,
            "grid_gap": null,
            "grid_row": null,
            "grid_template_areas": null,
            "grid_template_columns": null,
            "grid_template_rows": null,
            "height": null,
            "justify_content": null,
            "justify_items": null,
            "left": null,
            "margin": null,
            "max_height": null,
            "max_width": null,
            "min_height": null,
            "min_width": null,
            "object_fit": null,
            "object_position": null,
            "order": null,
            "overflow": null,
            "overflow_x": null,
            "overflow_y": null,
            "padding": null,
            "right": null,
            "top": null,
            "visibility": null,
            "width": null
          }
        },
        "259eca382d6a4248abbf2cbd2743e1f8": {
          "model_module": "@jupyter-widgets/controls",
          "model_name": "DescriptionStyleModel",
          "model_module_version": "1.5.0",
          "state": {
            "_model_module": "@jupyter-widgets/controls",
            "_model_module_version": "1.5.0",
            "_model_name": "DescriptionStyleModel",
            "_view_count": null,
            "_view_module": "@jupyter-widgets/base",
            "_view_module_version": "1.2.0",
            "_view_name": "StyleView",
            "description_width": ""
          }
        },
        "dd3b4bc2a263492ab2653510973d16af": {
          "model_module": "@jupyter-widgets/controls",
          "model_name": "HBoxModel",
          "model_module_version": "1.5.0",
          "state": {
            "_dom_classes": [],
            "_model_module": "@jupyter-widgets/controls",
            "_model_module_version": "1.5.0",
            "_model_name": "HBoxModel",
            "_view_count": null,
            "_view_module": "@jupyter-widgets/controls",
            "_view_module_version": "1.5.0",
            "_view_name": "HBoxView",
            "box_style": "",
            "children": [
              "IPY_MODEL_26b6f438528141dbb93f91b796e0fd0b",
              "IPY_MODEL_74ca65922b5d42b3b4d1babd2efc9d62",
              "IPY_MODEL_130096204ff4422daa2772ed308f0e1a"
            ],
            "layout": "IPY_MODEL_58774d158e484ce58492301f06bf01e6"
          }
        },
        "26b6f438528141dbb93f91b796e0fd0b": {
          "model_module": "@jupyter-widgets/controls",
          "model_name": "HTMLModel",
          "model_module_version": "1.5.0",
          "state": {
            "_dom_classes": [],
            "_model_module": "@jupyter-widgets/controls",
            "_model_module_version": "1.5.0",
            "_model_name": "HTMLModel",
            "_view_count": null,
            "_view_module": "@jupyter-widgets/controls",
            "_view_module_version": "1.5.0",
            "_view_name": "HTMLView",
            "description": "",
            "description_tooltip": null,
            "layout": "IPY_MODEL_c3e1bfb10e714592ae9b2a13c6e29aa8",
            "placeholder": "​",
            "style": "IPY_MODEL_0918b56d9aa04b0493017c5d13978c16",
            "value": "Downloading: 100%"
          }
        },
        "74ca65922b5d42b3b4d1babd2efc9d62": {
          "model_module": "@jupyter-widgets/controls",
          "model_name": "FloatProgressModel",
          "model_module_version": "1.5.0",
          "state": {
            "_dom_classes": [],
            "_model_module": "@jupyter-widgets/controls",
            "_model_module_version": "1.5.0",
            "_model_name": "FloatProgressModel",
            "_view_count": null,
            "_view_module": "@jupyter-widgets/controls",
            "_view_module_version": "1.5.0",
            "_view_name": "ProgressView",
            "bar_style": "success",
            "description": "",
            "description_tooltip": null,
            "layout": "IPY_MODEL_20b1d89614734226bdea51d51d3ccd77",
            "max": 267844284,
            "min": 0,
            "orientation": "horizontal",
            "style": "IPY_MODEL_e92b1d622b2a45d4a5b5eadf6421da01",
            "value": 267844284
          }
        },
        "130096204ff4422daa2772ed308f0e1a": {
          "model_module": "@jupyter-widgets/controls",
          "model_name": "HTMLModel",
          "model_module_version": "1.5.0",
          "state": {
            "_dom_classes": [],
            "_model_module": "@jupyter-widgets/controls",
            "_model_module_version": "1.5.0",
            "_model_name": "HTMLModel",
            "_view_count": null,
            "_view_module": "@jupyter-widgets/controls",
            "_view_module_version": "1.5.0",
            "_view_name": "HTMLView",
            "description": "",
            "description_tooltip": null,
            "layout": "IPY_MODEL_283ee3ee700a4953b075858fe2706a7d",
            "placeholder": "​",
            "style": "IPY_MODEL_09ca70648c234d97bf041b2b27735559",
            "value": " 255M/255M [00:06&lt;00:00, 35.6MB/s]"
          }
        },
        "58774d158e484ce58492301f06bf01e6": {
          "model_module": "@jupyter-widgets/base",
          "model_name": "LayoutModel",
          "model_module_version": "1.2.0",
          "state": {
            "_model_module": "@jupyter-widgets/base",
            "_model_module_version": "1.2.0",
            "_model_name": "LayoutModel",
            "_view_count": null,
            "_view_module": "@jupyter-widgets/base",
            "_view_module_version": "1.2.0",
            "_view_name": "LayoutView",
            "align_content": null,
            "align_items": null,
            "align_self": null,
            "border": null,
            "bottom": null,
            "display": null,
            "flex": null,
            "flex_flow": null,
            "grid_area": null,
            "grid_auto_columns": null,
            "grid_auto_flow": null,
            "grid_auto_rows": null,
            "grid_column": null,
            "grid_gap": null,
            "grid_row": null,
            "grid_template_areas": null,
            "grid_template_columns": null,
            "grid_template_rows": null,
            "height": null,
            "justify_content": null,
            "justify_items": null,
            "left": null,
            "margin": null,
            "max_height": null,
            "max_width": null,
            "min_height": null,
            "min_width": null,
            "object_fit": null,
            "object_position": null,
            "order": null,
            "overflow": null,
            "overflow_x": null,
            "overflow_y": null,
            "padding": null,
            "right": null,
            "top": null,
            "visibility": null,
            "width": null
          }
        },
        "c3e1bfb10e714592ae9b2a13c6e29aa8": {
          "model_module": "@jupyter-widgets/base",
          "model_name": "LayoutModel",
          "model_module_version": "1.2.0",
          "state": {
            "_model_module": "@jupyter-widgets/base",
            "_model_module_version": "1.2.0",
            "_model_name": "LayoutModel",
            "_view_count": null,
            "_view_module": "@jupyter-widgets/base",
            "_view_module_version": "1.2.0",
            "_view_name": "LayoutView",
            "align_content": null,
            "align_items": null,
            "align_self": null,
            "border": null,
            "bottom": null,
            "display": null,
            "flex": null,
            "flex_flow": null,
            "grid_area": null,
            "grid_auto_columns": null,
            "grid_auto_flow": null,
            "grid_auto_rows": null,
            "grid_column": null,
            "grid_gap": null,
            "grid_row": null,
            "grid_template_areas": null,
            "grid_template_columns": null,
            "grid_template_rows": null,
            "height": null,
            "justify_content": null,
            "justify_items": null,
            "left": null,
            "margin": null,
            "max_height": null,
            "max_width": null,
            "min_height": null,
            "min_width": null,
            "object_fit": null,
            "object_position": null,
            "order": null,
            "overflow": null,
            "overflow_x": null,
            "overflow_y": null,
            "padding": null,
            "right": null,
            "top": null,
            "visibility": null,
            "width": null
          }
        },
        "0918b56d9aa04b0493017c5d13978c16": {
          "model_module": "@jupyter-widgets/controls",
          "model_name": "DescriptionStyleModel",
          "model_module_version": "1.5.0",
          "state": {
            "_model_module": "@jupyter-widgets/controls",
            "_model_module_version": "1.5.0",
            "_model_name": "DescriptionStyleModel",
            "_view_count": null,
            "_view_module": "@jupyter-widgets/base",
            "_view_module_version": "1.2.0",
            "_view_name": "StyleView",
            "description_width": ""
          }
        },
        "20b1d89614734226bdea51d51d3ccd77": {
          "model_module": "@jupyter-widgets/base",
          "model_name": "LayoutModel",
          "model_module_version": "1.2.0",
          "state": {
            "_model_module": "@jupyter-widgets/base",
            "_model_module_version": "1.2.0",
            "_model_name": "LayoutModel",
            "_view_count": null,
            "_view_module": "@jupyter-widgets/base",
            "_view_module_version": "1.2.0",
            "_view_name": "LayoutView",
            "align_content": null,
            "align_items": null,
            "align_self": null,
            "border": null,
            "bottom": null,
            "display": null,
            "flex": null,
            "flex_flow": null,
            "grid_area": null,
            "grid_auto_columns": null,
            "grid_auto_flow": null,
            "grid_auto_rows": null,
            "grid_column": null,
            "grid_gap": null,
            "grid_row": null,
            "grid_template_areas": null,
            "grid_template_columns": null,
            "grid_template_rows": null,
            "height": null,
            "justify_content": null,
            "justify_items": null,
            "left": null,
            "margin": null,
            "max_height": null,
            "max_width": null,
            "min_height": null,
            "min_width": null,
            "object_fit": null,
            "object_position": null,
            "order": null,
            "overflow": null,
            "overflow_x": null,
            "overflow_y": null,
            "padding": null,
            "right": null,
            "top": null,
            "visibility": null,
            "width": null
          }
        },
        "e92b1d622b2a45d4a5b5eadf6421da01": {
          "model_module": "@jupyter-widgets/controls",
          "model_name": "ProgressStyleModel",
          "model_module_version": "1.5.0",
          "state": {
            "_model_module": "@jupyter-widgets/controls",
            "_model_module_version": "1.5.0",
            "_model_name": "ProgressStyleModel",
            "_view_count": null,
            "_view_module": "@jupyter-widgets/base",
            "_view_module_version": "1.2.0",
            "_view_name": "StyleView",
            "bar_color": null,
            "description_width": ""
          }
        },
        "283ee3ee700a4953b075858fe2706a7d": {
          "model_module": "@jupyter-widgets/base",
          "model_name": "LayoutModel",
          "model_module_version": "1.2.0",
          "state": {
            "_model_module": "@jupyter-widgets/base",
            "_model_module_version": "1.2.0",
            "_model_name": "LayoutModel",
            "_view_count": null,
            "_view_module": "@jupyter-widgets/base",
            "_view_module_version": "1.2.0",
            "_view_name": "LayoutView",
            "align_content": null,
            "align_items": null,
            "align_self": null,
            "border": null,
            "bottom": null,
            "display": null,
            "flex": null,
            "flex_flow": null,
            "grid_area": null,
            "grid_auto_columns": null,
            "grid_auto_flow": null,
            "grid_auto_rows": null,
            "grid_column": null,
            "grid_gap": null,
            "grid_row": null,
            "grid_template_areas": null,
            "grid_template_columns": null,
            "grid_template_rows": null,
            "height": null,
            "justify_content": null,
            "justify_items": null,
            "left": null,
            "margin": null,
            "max_height": null,
            "max_width": null,
            "min_height": null,
            "min_width": null,
            "object_fit": null,
            "object_position": null,
            "order": null,
            "overflow": null,
            "overflow_x": null,
            "overflow_y": null,
            "padding": null,
            "right": null,
            "top": null,
            "visibility": null,
            "width": null
          }
        },
        "09ca70648c234d97bf041b2b27735559": {
          "model_module": "@jupyter-widgets/controls",
          "model_name": "DescriptionStyleModel",
          "model_module_version": "1.5.0",
          "state": {
            "_model_module": "@jupyter-widgets/controls",
            "_model_module_version": "1.5.0",
            "_model_name": "DescriptionStyleModel",
            "_view_count": null,
            "_view_module": "@jupyter-widgets/base",
            "_view_module_version": "1.2.0",
            "_view_name": "StyleView",
            "description_width": ""
          }
        },
        "449f4cb44bb04b7ea958ac2bd2f38b5a": {
          "model_module": "@jupyter-widgets/controls",
          "model_name": "HBoxModel",
          "model_module_version": "1.5.0",
          "state": {
            "_dom_classes": [],
            "_model_module": "@jupyter-widgets/controls",
            "_model_module_version": "1.5.0",
            "_model_name": "HBoxModel",
            "_view_count": null,
            "_view_module": "@jupyter-widgets/controls",
            "_view_module_version": "1.5.0",
            "_view_name": "HBoxView",
            "box_style": "",
            "children": [
              "IPY_MODEL_83365c6a1532413db33daad58af20080",
              "IPY_MODEL_64d138a0abe445659d069f62d7f6e172",
              "IPY_MODEL_d7f545c4efcd4ef1b5a3042fcc1ee38b"
            ],
            "layout": "IPY_MODEL_35fb12fea73048b49d0c763f5716f672"
          }
        },
        "83365c6a1532413db33daad58af20080": {
          "model_module": "@jupyter-widgets/controls",
          "model_name": "HTMLModel",
          "model_module_version": "1.5.0",
          "state": {
            "_dom_classes": [],
            "_model_module": "@jupyter-widgets/controls",
            "_model_module_version": "1.5.0",
            "_model_name": "HTMLModel",
            "_view_count": null,
            "_view_module": "@jupyter-widgets/controls",
            "_view_module_version": "1.5.0",
            "_view_name": "HTMLView",
            "description": "",
            "description_tooltip": null,
            "layout": "IPY_MODEL_194fe9e2f417485cb3a5ba792cc51688",
            "placeholder": "​",
            "style": "IPY_MODEL_f350e66d44df4847ba40cc8f9ad5ea8c",
            "value": "Downloading: 100%"
          }
        },
        "64d138a0abe445659d069f62d7f6e172": {
          "model_module": "@jupyter-widgets/controls",
          "model_name": "FloatProgressModel",
          "model_module_version": "1.5.0",
          "state": {
            "_dom_classes": [],
            "_model_module": "@jupyter-widgets/controls",
            "_model_module_version": "1.5.0",
            "_model_name": "FloatProgressModel",
            "_view_count": null,
            "_view_module": "@jupyter-widgets/controls",
            "_view_module_version": "1.5.0",
            "_view_name": "ProgressView",
            "bar_style": "success",
            "description": "",
            "description_tooltip": null,
            "layout": "IPY_MODEL_6ad302c6a5c74abf9c9be7f79efcf132",
            "max": 48,
            "min": 0,
            "orientation": "horizontal",
            "style": "IPY_MODEL_fd0d362e456e4eba8240cefb2d025716",
            "value": 48
          }
        },
        "d7f545c4efcd4ef1b5a3042fcc1ee38b": {
          "model_module": "@jupyter-widgets/controls",
          "model_name": "HTMLModel",
          "model_module_version": "1.5.0",
          "state": {
            "_dom_classes": [],
            "_model_module": "@jupyter-widgets/controls",
            "_model_module_version": "1.5.0",
            "_model_name": "HTMLModel",
            "_view_count": null,
            "_view_module": "@jupyter-widgets/controls",
            "_view_module_version": "1.5.0",
            "_view_name": "HTMLView",
            "description": "",
            "description_tooltip": null,
            "layout": "IPY_MODEL_d6acc85b83e448d5ac2d8b1e5d87083d",
            "placeholder": "​",
            "style": "IPY_MODEL_b19d96fa33eb4f7a9374879545f3743b",
            "value": " 48.0/48.0 [00:00&lt;00:00, 961B/s]"
          }
        },
        "35fb12fea73048b49d0c763f5716f672": {
          "model_module": "@jupyter-widgets/base",
          "model_name": "LayoutModel",
          "model_module_version": "1.2.0",
          "state": {
            "_model_module": "@jupyter-widgets/base",
            "_model_module_version": "1.2.0",
            "_model_name": "LayoutModel",
            "_view_count": null,
            "_view_module": "@jupyter-widgets/base",
            "_view_module_version": "1.2.0",
            "_view_name": "LayoutView",
            "align_content": null,
            "align_items": null,
            "align_self": null,
            "border": null,
            "bottom": null,
            "display": null,
            "flex": null,
            "flex_flow": null,
            "grid_area": null,
            "grid_auto_columns": null,
            "grid_auto_flow": null,
            "grid_auto_rows": null,
            "grid_column": null,
            "grid_gap": null,
            "grid_row": null,
            "grid_template_areas": null,
            "grid_template_columns": null,
            "grid_template_rows": null,
            "height": null,
            "justify_content": null,
            "justify_items": null,
            "left": null,
            "margin": null,
            "max_height": null,
            "max_width": null,
            "min_height": null,
            "min_width": null,
            "object_fit": null,
            "object_position": null,
            "order": null,
            "overflow": null,
            "overflow_x": null,
            "overflow_y": null,
            "padding": null,
            "right": null,
            "top": null,
            "visibility": null,
            "width": null
          }
        },
        "194fe9e2f417485cb3a5ba792cc51688": {
          "model_module": "@jupyter-widgets/base",
          "model_name": "LayoutModel",
          "model_module_version": "1.2.0",
          "state": {
            "_model_module": "@jupyter-widgets/base",
            "_model_module_version": "1.2.0",
            "_model_name": "LayoutModel",
            "_view_count": null,
            "_view_module": "@jupyter-widgets/base",
            "_view_module_version": "1.2.0",
            "_view_name": "LayoutView",
            "align_content": null,
            "align_items": null,
            "align_self": null,
            "border": null,
            "bottom": null,
            "display": null,
            "flex": null,
            "flex_flow": null,
            "grid_area": null,
            "grid_auto_columns": null,
            "grid_auto_flow": null,
            "grid_auto_rows": null,
            "grid_column": null,
            "grid_gap": null,
            "grid_row": null,
            "grid_template_areas": null,
            "grid_template_columns": null,
            "grid_template_rows": null,
            "height": null,
            "justify_content": null,
            "justify_items": null,
            "left": null,
            "margin": null,
            "max_height": null,
            "max_width": null,
            "min_height": null,
            "min_width": null,
            "object_fit": null,
            "object_position": null,
            "order": null,
            "overflow": null,
            "overflow_x": null,
            "overflow_y": null,
            "padding": null,
            "right": null,
            "top": null,
            "visibility": null,
            "width": null
          }
        },
        "f350e66d44df4847ba40cc8f9ad5ea8c": {
          "model_module": "@jupyter-widgets/controls",
          "model_name": "DescriptionStyleModel",
          "model_module_version": "1.5.0",
          "state": {
            "_model_module": "@jupyter-widgets/controls",
            "_model_module_version": "1.5.0",
            "_model_name": "DescriptionStyleModel",
            "_view_count": null,
            "_view_module": "@jupyter-widgets/base",
            "_view_module_version": "1.2.0",
            "_view_name": "StyleView",
            "description_width": ""
          }
        },
        "6ad302c6a5c74abf9c9be7f79efcf132": {
          "model_module": "@jupyter-widgets/base",
          "model_name": "LayoutModel",
          "model_module_version": "1.2.0",
          "state": {
            "_model_module": "@jupyter-widgets/base",
            "_model_module_version": "1.2.0",
            "_model_name": "LayoutModel",
            "_view_count": null,
            "_view_module": "@jupyter-widgets/base",
            "_view_module_version": "1.2.0",
            "_view_name": "LayoutView",
            "align_content": null,
            "align_items": null,
            "align_self": null,
            "border": null,
            "bottom": null,
            "display": null,
            "flex": null,
            "flex_flow": null,
            "grid_area": null,
            "grid_auto_columns": null,
            "grid_auto_flow": null,
            "grid_auto_rows": null,
            "grid_column": null,
            "grid_gap": null,
            "grid_row": null,
            "grid_template_areas": null,
            "grid_template_columns": null,
            "grid_template_rows": null,
            "height": null,
            "justify_content": null,
            "justify_items": null,
            "left": null,
            "margin": null,
            "max_height": null,
            "max_width": null,
            "min_height": null,
            "min_width": null,
            "object_fit": null,
            "object_position": null,
            "order": null,
            "overflow": null,
            "overflow_x": null,
            "overflow_y": null,
            "padding": null,
            "right": null,
            "top": null,
            "visibility": null,
            "width": null
          }
        },
        "fd0d362e456e4eba8240cefb2d025716": {
          "model_module": "@jupyter-widgets/controls",
          "model_name": "ProgressStyleModel",
          "model_module_version": "1.5.0",
          "state": {
            "_model_module": "@jupyter-widgets/controls",
            "_model_module_version": "1.5.0",
            "_model_name": "ProgressStyleModel",
            "_view_count": null,
            "_view_module": "@jupyter-widgets/base",
            "_view_module_version": "1.2.0",
            "_view_name": "StyleView",
            "bar_color": null,
            "description_width": ""
          }
        },
        "d6acc85b83e448d5ac2d8b1e5d87083d": {
          "model_module": "@jupyter-widgets/base",
          "model_name": "LayoutModel",
          "model_module_version": "1.2.0",
          "state": {
            "_model_module": "@jupyter-widgets/base",
            "_model_module_version": "1.2.0",
            "_model_name": "LayoutModel",
            "_view_count": null,
            "_view_module": "@jupyter-widgets/base",
            "_view_module_version": "1.2.0",
            "_view_name": "LayoutView",
            "align_content": null,
            "align_items": null,
            "align_self": null,
            "border": null,
            "bottom": null,
            "display": null,
            "flex": null,
            "flex_flow": null,
            "grid_area": null,
            "grid_auto_columns": null,
            "grid_auto_flow": null,
            "grid_auto_rows": null,
            "grid_column": null,
            "grid_gap": null,
            "grid_row": null,
            "grid_template_areas": null,
            "grid_template_columns": null,
            "grid_template_rows": null,
            "height": null,
            "justify_content": null,
            "justify_items": null,
            "left": null,
            "margin": null,
            "max_height": null,
            "max_width": null,
            "min_height": null,
            "min_width": null,
            "object_fit": null,
            "object_position": null,
            "order": null,
            "overflow": null,
            "overflow_x": null,
            "overflow_y": null,
            "padding": null,
            "right": null,
            "top": null,
            "visibility": null,
            "width": null
          }
        },
        "b19d96fa33eb4f7a9374879545f3743b": {
          "model_module": "@jupyter-widgets/controls",
          "model_name": "DescriptionStyleModel",
          "model_module_version": "1.5.0",
          "state": {
            "_model_module": "@jupyter-widgets/controls",
            "_model_module_version": "1.5.0",
            "_model_name": "DescriptionStyleModel",
            "_view_count": null,
            "_view_module": "@jupyter-widgets/base",
            "_view_module_version": "1.2.0",
            "_view_name": "StyleView",
            "description_width": ""
          }
        },
        "e4b7e18be62840bfa7bf46a734e7fca8": {
          "model_module": "@jupyter-widgets/controls",
          "model_name": "HBoxModel",
          "model_module_version": "1.5.0",
          "state": {
            "_dom_classes": [],
            "_model_module": "@jupyter-widgets/controls",
            "_model_module_version": "1.5.0",
            "_model_name": "HBoxModel",
            "_view_count": null,
            "_view_module": "@jupyter-widgets/controls",
            "_view_module_version": "1.5.0",
            "_view_name": "HBoxView",
            "box_style": "",
            "children": [
              "IPY_MODEL_0a77a26a48654d728e327f7804daa41a",
              "IPY_MODEL_af99b0b4c5a44d67ab74ddff7203274d",
              "IPY_MODEL_f403e4c70ba0498db982ac72100c620d"
            ],
            "layout": "IPY_MODEL_d221bfb81e75421f9cfb8460d814252e"
          }
        },
        "0a77a26a48654d728e327f7804daa41a": {
          "model_module": "@jupyter-widgets/controls",
          "model_name": "HTMLModel",
          "model_module_version": "1.5.0",
          "state": {
            "_dom_classes": [],
            "_model_module": "@jupyter-widgets/controls",
            "_model_module_version": "1.5.0",
            "_model_name": "HTMLModel",
            "_view_count": null,
            "_view_module": "@jupyter-widgets/controls",
            "_view_module_version": "1.5.0",
            "_view_name": "HTMLView",
            "description": "",
            "description_tooltip": null,
            "layout": "IPY_MODEL_34c4bdeec083416d8b01ebfcf663fc52",
            "placeholder": "​",
            "style": "IPY_MODEL_f18eac74c6ba4f80914b5e84474e51a8",
            "value": "Downloading: 100%"
          }
        },
        "af99b0b4c5a44d67ab74ddff7203274d": {
          "model_module": "@jupyter-widgets/controls",
          "model_name": "FloatProgressModel",
          "model_module_version": "1.5.0",
          "state": {
            "_dom_classes": [],
            "_model_module": "@jupyter-widgets/controls",
            "_model_module_version": "1.5.0",
            "_model_name": "FloatProgressModel",
            "_view_count": null,
            "_view_module": "@jupyter-widgets/controls",
            "_view_module_version": "1.5.0",
            "_view_name": "ProgressView",
            "bar_style": "success",
            "description": "",
            "description_tooltip": null,
            "layout": "IPY_MODEL_4b9c6a74177247bd9a12f17eab5f2af9",
            "max": 231508,
            "min": 0,
            "orientation": "horizontal",
            "style": "IPY_MODEL_1711a9aa540f4c8286469587af7f5a2d",
            "value": 231508
          }
        },
        "f403e4c70ba0498db982ac72100c620d": {
          "model_module": "@jupyter-widgets/controls",
          "model_name": "HTMLModel",
          "model_module_version": "1.5.0",
          "state": {
            "_dom_classes": [],
            "_model_module": "@jupyter-widgets/controls",
            "_model_module_version": "1.5.0",
            "_model_name": "HTMLModel",
            "_view_count": null,
            "_view_module": "@jupyter-widgets/controls",
            "_view_module_version": "1.5.0",
            "_view_name": "HTMLView",
            "description": "",
            "description_tooltip": null,
            "layout": "IPY_MODEL_ca78509234d54e99b97b0c7ac78dcf63",
            "placeholder": "​",
            "style": "IPY_MODEL_5b465d4da3184b4e87e106e4f824cb54",
            "value": " 226k/226k [00:00&lt;00:00, 1.17MB/s]"
          }
        },
        "d221bfb81e75421f9cfb8460d814252e": {
          "model_module": "@jupyter-widgets/base",
          "model_name": "LayoutModel",
          "model_module_version": "1.2.0",
          "state": {
            "_model_module": "@jupyter-widgets/base",
            "_model_module_version": "1.2.0",
            "_model_name": "LayoutModel",
            "_view_count": null,
            "_view_module": "@jupyter-widgets/base",
            "_view_module_version": "1.2.0",
            "_view_name": "LayoutView",
            "align_content": null,
            "align_items": null,
            "align_self": null,
            "border": null,
            "bottom": null,
            "display": null,
            "flex": null,
            "flex_flow": null,
            "grid_area": null,
            "grid_auto_columns": null,
            "grid_auto_flow": null,
            "grid_auto_rows": null,
            "grid_column": null,
            "grid_gap": null,
            "grid_row": null,
            "grid_template_areas": null,
            "grid_template_columns": null,
            "grid_template_rows": null,
            "height": null,
            "justify_content": null,
            "justify_items": null,
            "left": null,
            "margin": null,
            "max_height": null,
            "max_width": null,
            "min_height": null,
            "min_width": null,
            "object_fit": null,
            "object_position": null,
            "order": null,
            "overflow": null,
            "overflow_x": null,
            "overflow_y": null,
            "padding": null,
            "right": null,
            "top": null,
            "visibility": null,
            "width": null
          }
        },
        "34c4bdeec083416d8b01ebfcf663fc52": {
          "model_module": "@jupyter-widgets/base",
          "model_name": "LayoutModel",
          "model_module_version": "1.2.0",
          "state": {
            "_model_module": "@jupyter-widgets/base",
            "_model_module_version": "1.2.0",
            "_model_name": "LayoutModel",
            "_view_count": null,
            "_view_module": "@jupyter-widgets/base",
            "_view_module_version": "1.2.0",
            "_view_name": "LayoutView",
            "align_content": null,
            "align_items": null,
            "align_self": null,
            "border": null,
            "bottom": null,
            "display": null,
            "flex": null,
            "flex_flow": null,
            "grid_area": null,
            "grid_auto_columns": null,
            "grid_auto_flow": null,
            "grid_auto_rows": null,
            "grid_column": null,
            "grid_gap": null,
            "grid_row": null,
            "grid_template_areas": null,
            "grid_template_columns": null,
            "grid_template_rows": null,
            "height": null,
            "justify_content": null,
            "justify_items": null,
            "left": null,
            "margin": null,
            "max_height": null,
            "max_width": null,
            "min_height": null,
            "min_width": null,
            "object_fit": null,
            "object_position": null,
            "order": null,
            "overflow": null,
            "overflow_x": null,
            "overflow_y": null,
            "padding": null,
            "right": null,
            "top": null,
            "visibility": null,
            "width": null
          }
        },
        "f18eac74c6ba4f80914b5e84474e51a8": {
          "model_module": "@jupyter-widgets/controls",
          "model_name": "DescriptionStyleModel",
          "model_module_version": "1.5.0",
          "state": {
            "_model_module": "@jupyter-widgets/controls",
            "_model_module_version": "1.5.0",
            "_model_name": "DescriptionStyleModel",
            "_view_count": null,
            "_view_module": "@jupyter-widgets/base",
            "_view_module_version": "1.2.0",
            "_view_name": "StyleView",
            "description_width": ""
          }
        },
        "4b9c6a74177247bd9a12f17eab5f2af9": {
          "model_module": "@jupyter-widgets/base",
          "model_name": "LayoutModel",
          "model_module_version": "1.2.0",
          "state": {
            "_model_module": "@jupyter-widgets/base",
            "_model_module_version": "1.2.0",
            "_model_name": "LayoutModel",
            "_view_count": null,
            "_view_module": "@jupyter-widgets/base",
            "_view_module_version": "1.2.0",
            "_view_name": "LayoutView",
            "align_content": null,
            "align_items": null,
            "align_self": null,
            "border": null,
            "bottom": null,
            "display": null,
            "flex": null,
            "flex_flow": null,
            "grid_area": null,
            "grid_auto_columns": null,
            "grid_auto_flow": null,
            "grid_auto_rows": null,
            "grid_column": null,
            "grid_gap": null,
            "grid_row": null,
            "grid_template_areas": null,
            "grid_template_columns": null,
            "grid_template_rows": null,
            "height": null,
            "justify_content": null,
            "justify_items": null,
            "left": null,
            "margin": null,
            "max_height": null,
            "max_width": null,
            "min_height": null,
            "min_width": null,
            "object_fit": null,
            "object_position": null,
            "order": null,
            "overflow": null,
            "overflow_x": null,
            "overflow_y": null,
            "padding": null,
            "right": null,
            "top": null,
            "visibility": null,
            "width": null
          }
        },
        "1711a9aa540f4c8286469587af7f5a2d": {
          "model_module": "@jupyter-widgets/controls",
          "model_name": "ProgressStyleModel",
          "model_module_version": "1.5.0",
          "state": {
            "_model_module": "@jupyter-widgets/controls",
            "_model_module_version": "1.5.0",
            "_model_name": "ProgressStyleModel",
            "_view_count": null,
            "_view_module": "@jupyter-widgets/base",
            "_view_module_version": "1.2.0",
            "_view_name": "StyleView",
            "bar_color": null,
            "description_width": ""
          }
        },
        "ca78509234d54e99b97b0c7ac78dcf63": {
          "model_module": "@jupyter-widgets/base",
          "model_name": "LayoutModel",
          "model_module_version": "1.2.0",
          "state": {
            "_model_module": "@jupyter-widgets/base",
            "_model_module_version": "1.2.0",
            "_model_name": "LayoutModel",
            "_view_count": null,
            "_view_module": "@jupyter-widgets/base",
            "_view_module_version": "1.2.0",
            "_view_name": "LayoutView",
            "align_content": null,
            "align_items": null,
            "align_self": null,
            "border": null,
            "bottom": null,
            "display": null,
            "flex": null,
            "flex_flow": null,
            "grid_area": null,
            "grid_auto_columns": null,
            "grid_auto_flow": null,
            "grid_auto_rows": null,
            "grid_column": null,
            "grid_gap": null,
            "grid_row": null,
            "grid_template_areas": null,
            "grid_template_columns": null,
            "grid_template_rows": null,
            "height": null,
            "justify_content": null,
            "justify_items": null,
            "left": null,
            "margin": null,
            "max_height": null,
            "max_width": null,
            "min_height": null,
            "min_width": null,
            "object_fit": null,
            "object_position": null,
            "order": null,
            "overflow": null,
            "overflow_x": null,
            "overflow_y": null,
            "padding": null,
            "right": null,
            "top": null,
            "visibility": null,
            "width": null
          }
        },
        "5b465d4da3184b4e87e106e4f824cb54": {
          "model_module": "@jupyter-widgets/controls",
          "model_name": "DescriptionStyleModel",
          "model_module_version": "1.5.0",
          "state": {
            "_model_module": "@jupyter-widgets/controls",
            "_model_module_version": "1.5.0",
            "_model_name": "DescriptionStyleModel",
            "_view_count": null,
            "_view_module": "@jupyter-widgets/base",
            "_view_module_version": "1.2.0",
            "_view_name": "StyleView",
            "description_width": ""
          }
        }
      }
    }
  },
  "nbformat": 4,
  "nbformat_minor": 0
}